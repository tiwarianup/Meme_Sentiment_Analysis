{
 "cells": [
  {
   "cell_type": "code",
   "execution_count": 90,
   "metadata": {
    "id": "oNCGAmQFwRSw"
   },
   "outputs": [],
   "source": [
    "import torch\n",
    "import tensorflow as tf"
   ]
  },
  {
   "cell_type": "code",
   "execution_count": 91,
   "metadata": {
    "colab": {
     "base_uri": "https://localhost:8080/"
    },
    "id": "gYg9a0U9weyV",
    "outputId": "fb6558b7-fc47-4225-c184-85dc890b3279"
   },
   "outputs": [
    {
     "data": {
      "text/plain": [
       "\"\\nfrom google.colab import drive\\ndrive.mount('/content/drive')\\n%cd /content/drive/My Drive/Data/\\n\""
      ]
     },
     "execution_count": 91,
     "metadata": {},
     "output_type": "execute_result"
    }
   ],
   "source": [
    "\"\"\"\n",
    "from google.colab import drive\n",
    "drive.mount('/content/drive')\n",
    "%cd /content/drive/My Drive/Data/\n",
    "\"\"\""
   ]
  },
  {
   "cell_type": "code",
   "execution_count": 92,
   "metadata": {
    "colab": {
     "base_uri": "https://localhost:8080/"
    },
    "id": "EtSUI4Gpwle6",
    "outputId": "e4348a4b-1113-4912-b976-bf7afe9f8954"
   },
   "outputs": [
    {
     "name": "stdout",
     "output_type": "stream",
     "text": [
      " Volume in drive C is Windows\n",
      " Volume Serial Number is 6C2B-C4B4\n",
      "\n",
      " Directory of C:\\Users\\appadmin\\Documents\\ResearchMS\n",
      "\n",
      "08/26/2022  03:28 PM    <DIR>          .\n",
      "08/26/2022  03:28 PM    <DIR>          ..\n",
      "08/26/2022  01:24 PM    <DIR>          .ipynb_checkpoints\n",
      "08/25/2022  10:18 PM        39,740,139 concat_features.pt\n",
      "08/26/2022  10:12 AM        10,724,075 concat_features_test.pt\n",
      "08/25/2022  03:23 PM    <DIR>          en_images-20220825T063442Z-001\n",
      "08/25/2022  12:10 PM       581,017,050 en_images-20220825T063442Z-001.zip\n",
      "08/25/2022  09:10 PM    <DIR>          en_test_images-20220825T152147Z-001\n",
      "08/26/2022  10:22 AM        17,349,050 Image_Caps_Embeddings-TestData.ipynb\n",
      "08/26/2022  02:02 PM        17,993,062 Image_Caps_Embeddings.ipynb\n",
      "08/25/2022  02:56 PM           328,827 image_captions.csv\n",
      "08/25/2022  12:04 PM           636,992 Labels_A.csv\n",
      "08/26/2022  10:07 AM           235,242 Labels_A_test_v1.csv\n",
      "08/25/2022  09:08 PM           900,016 Labels_A_v1.csv\n",
      "08/25/2022  10:15 PM           897,788 Labels_A_v1_sorted.csv\n",
      "08/25/2022  08:41 PM           230,212 Labels_test_A.csv\n",
      "08/26/2022  10:03 AM           299,875 Labels_test_A_v1.csv\n",
      "08/26/2022  01:59 PM        39,806,635 model_tensor.pt\n",
      "08/26/2022  02:00 PM            22,891 model_tensor_target.pt\n",
      "08/25/2022  03:38 PM        22,708,971 tensor_fin.pt\n",
      "08/25/2022  08:46 PM         6,128,363 tensor_fin_test.pt\n",
      "08/25/2022  09:04 PM           137,877 test_image_captions.csv\n",
      "08/26/2022  09:59 AM            71,670 test_order.csv\n",
      "08/26/2022  10:20 AM        10,741,995 test_tensor.pt\n",
      "08/26/2022  10:16 AM             6,699 test_tensor_target.pt\n",
      "08/26/2022  03:28 PM            34,817 Training_Meme_Sentiment_Classifier.ipynb\n",
      "08/25/2022  10:22 PM        39,806,635 train_tensor.pt\n",
      "08/26/2022  10:19 AM            22,891 train_tensor_target.pt\n",
      "08/25/2022  10:22 PM        39,806,635 val_tensor.pt\n",
      "08/26/2022  10:19 AM            22,891 val_tensor_target.pt\n",
      "              25 File(s)    829,671,298 bytes\n",
      "               5 Dir(s)  71,943,147,520 bytes free\n"
     ]
    }
   ],
   "source": [
    "!dir"
   ]
  },
  {
   "cell_type": "code",
   "execution_count": 93,
   "metadata": {
    "id": "EKTAreMnw_wm"
   },
   "outputs": [],
   "source": [
    "#testing tensors capability \n",
    "pytorch_tensor = torch.load('val_tensor.pt')\n",
    "np_tensor = pytorch_tensor.numpy()\n",
    "tf_tensor = tf.convert_to_tensor(np_tensor)\n",
    "pytorch_tensor_target = torch.load('val_tensor_target.pt')\n",
    "np_tensor_target = pytorch_tensor_target.numpy()\n",
    "tf_tensor_target = tf.convert_to_tensor(np_tensor_target)\n",
    "#print(pytorch_tensor, np_tensor, tf_tensor)\n",
    "#print(pytorch_tensor_target, np_tensor_target, tf_tensor_target)"
   ]
  },
  {
   "cell_type": "code",
   "execution_count": 94,
   "metadata": {
    "colab": {
     "base_uri": "https://localhost:8080/"
    },
    "id": "3EJxyw7_x1Jq",
    "outputId": "a2a8a01c-5865-4814-8b5f-b189fd56e390"
   },
   "outputs": [
    {
     "data": {
      "text/plain": [
       "(TensorShape([5544, 1795]), TensorShape([5544, 1]))"
      ]
     },
     "execution_count": 94,
     "metadata": {},
     "output_type": "execute_result"
    }
   ],
   "source": [
    "#read training, target tensor\n",
    "pt_tensor_train = torch.load('model_tensor.pt')\n",
    "np_tensor_train = pt_tensor_train.numpy()\n",
    "tf_tensor_train = tf.convert_to_tensor(np_tensor_train)\n",
    "pt_tensor_train_target = torch.load('model_tensor_target.pt')\n",
    "np_tensor_train_target = pt_tensor_train_target.numpy()\n",
    "tf_tensor_train_target = tf.convert_to_tensor(np_tensor_train_target)\n",
    "tf_tensor_train.shape, tf_tensor_train_target.shape"
   ]
  },
  {
   "cell_type": "code",
   "execution_count": 95,
   "metadata": {
    "colab": {
     "base_uri": "https://localhost:8080/"
    },
    "id": "hd_tU9mmzc_H",
    "outputId": "ebb14965-2b00-403d-f548-8cc411facb74"
   },
   "outputs": [
    {
     "data": {
      "text/plain": [
       "(TensorShape([1044, 1795]), TensorShape([1044, 1]))"
      ]
     },
     "execution_count": 95,
     "metadata": {},
     "output_type": "execute_result"
    }
   ],
   "source": [
    "#read valdation, target tensor\n",
    "pt_tensor_val = torch.load('val_tensor.pt')\n",
    "np_tensor_val = pt_tensor_val.numpy()\n",
    "tf_tensor_val = tf.convert_to_tensor(np_tensor_val)\n",
    "pt_tensor_val_target = torch.load('val_tensor_target.pt')\n",
    "np_tensor_val_target = pt_tensor_val_target.numpy()\n",
    "tf_tensor_val_target = tf.convert_to_tensor(np_tensor_val_target)\n",
    "tf_tensor_val.shape, tf_tensor_val_target.shape"
   ]
  },
  {
   "cell_type": "code",
   "execution_count": 96,
   "metadata": {
    "colab": {
     "base_uri": "https://localhost:8080/"
    },
    "id": "DN8t0Z0vzwlT",
    "outputId": "a09ea311-d5fd-4769-bb26-22f04c4289e8"
   },
   "outputs": [
    {
     "data": {
      "text/plain": [
       "(TensorShape([1496, 1795]), TensorShape([1496, 1]))"
      ]
     },
     "execution_count": 96,
     "metadata": {},
     "output_type": "execute_result"
    }
   ],
   "source": [
    "#read testing, target tensor\n",
    "pt_tensor_test = torch.load('test_tensor.pt')\n",
    "np_tensor_test = pt_tensor_test.numpy()\n",
    "tf_tensor_test = tf.convert_to_tensor(np_tensor_test)\n",
    "pt_tensor_test_target = torch.load('test_tensor_target.pt')\n",
    "np_tensor_test_target = pt_tensor_test_target.numpy()\n",
    "tf_tensor_test_target = tf.convert_to_tensor(np_tensor_test_target)\n",
    "tf_tensor_test.shape, tf_tensor_test_target.shape"
   ]
  },
  {
   "cell_type": "code",
   "execution_count": 97,
   "metadata": {
    "colab": {
     "base_uri": "https://localhost:8080/"
    },
    "id": "pc6nY37dHfen",
    "outputId": "ec8e90b3-64fa-40e4-8df1-c297a3aea350",
    "scrolled": true
   },
   "outputs": [
    {
     "data": {
      "text/plain": [
       "((1496,), numpy.ndarray)"
      ]
     },
     "execution_count": 97,
     "metadata": {},
     "output_type": "execute_result"
    }
   ],
   "source": [
    "np_tensor_test_target.flatten().shape, type(np_tensor_test_target)"
   ]
  },
  {
   "cell_type": "code",
   "execution_count": 98,
   "metadata": {},
   "outputs": [],
   "source": [
    "import numpy as np"
   ]
  },
  {
   "cell_type": "code",
   "execution_count": 99,
   "metadata": {},
   "outputs": [
    {
     "data": {
      "text/plain": [
       "array([[ 0.0000000e+00,  1.1119392e+07,  7.0400000e+03, ...,\n",
       "         4.4000000e+01,  8.0000000e+00,  0.0000000e+00],\n",
       "       [-2.0190430e-01,  3.6962891e-01,  2.6269531e-01, ...,\n",
       "         4.3000000e+01,  1.0000000e+01,  1.0000000e+00],\n",
       "       [-3.1518555e-01,  7.0190430e-02, -2.3544312e-02, ...,\n",
       "         6.6000000e+01,  1.5000000e+01, -1.0000000e+00],\n",
       "       ...,\n",
       "       [-2.9028320e-01,  2.6367188e-01, -5.4931641e-04, ...,\n",
       "         1.2800000e+02,  1.9000000e+01,  0.0000000e+00],\n",
       "       [-1.2588501e-02,  3.2379150e-02,  3.2177734e-01, ...,\n",
       "         5.5000000e+01,  1.0000000e+01,  0.0000000e+00],\n",
       "       [-4.7949219e-01, -1.1035156e-01,  1.3903809e-01, ...,\n",
       "         1.1600000e+02,  1.9000000e+01, -1.0000000e+00]], dtype=float32)"
      ]
     },
     "execution_count": 99,
     "metadata": {},
     "output_type": "execute_result"
    }
   ],
   "source": [
    "np_tensor_train"
   ]
  },
  {
   "cell_type": "code",
   "execution_count": 100,
   "metadata": {},
   "outputs": [
    {
     "data": {
      "text/plain": [
       "array([[[ 0.0000000e+00,  1.1119392e+07,  7.0400000e+03, ...,\n",
       "          4.4000000e+01,  8.0000000e+00,  0.0000000e+00]],\n",
       "\n",
       "       [[-2.0190430e-01,  3.6962891e-01,  2.6269531e-01, ...,\n",
       "          4.3000000e+01,  1.0000000e+01,  1.0000000e+00]],\n",
       "\n",
       "       [[-3.1518555e-01,  7.0190430e-02, -2.3544312e-02, ...,\n",
       "          6.6000000e+01,  1.5000000e+01, -1.0000000e+00]],\n",
       "\n",
       "       ...,\n",
       "\n",
       "       [[-2.9028320e-01,  2.6367188e-01, -5.4931641e-04, ...,\n",
       "          1.2800000e+02,  1.9000000e+01,  0.0000000e+00]],\n",
       "\n",
       "       [[-1.2588501e-02,  3.2379150e-02,  3.2177734e-01, ...,\n",
       "          5.5000000e+01,  1.0000000e+01,  0.0000000e+00]],\n",
       "\n",
       "       [[-4.7949219e-01, -1.1035156e-01,  1.3903809e-01, ...,\n",
       "          1.1600000e+02,  1.9000000e+01, -1.0000000e+00]]], dtype=float32)"
      ]
     },
     "execution_count": 100,
     "metadata": {},
     "output_type": "execute_result"
    }
   ],
   "source": [
    "np.reshape(np_tensor_train, (5544,1, 1795))"
   ]
  },
  {
   "cell_type": "code",
   "execution_count": 101,
   "metadata": {},
   "outputs": [
    {
     "data": {
      "text/plain": [
       "(numpy.ndarray, (5544, 1795))"
      ]
     },
     "execution_count": 101,
     "metadata": {},
     "output_type": "execute_result"
    }
   ],
   "source": [
    "type(np_tensor_train), np_tensor_train.shape"
   ]
  },
  {
   "cell_type": "code",
   "execution_count": 102,
   "metadata": {
    "id": "tfQ3svJ0IkUP"
   },
   "outputs": [],
   "source": [
    "train_target = np_tensor_train_target.flatten()\n",
    "train_data = np.reshape(np_tensor_train, (5544,1,1795)) # np_tensor_train"
   ]
  },
  {
   "cell_type": "code",
   "execution_count": 103,
   "metadata": {},
   "outputs": [
    {
     "data": {
      "text/plain": [
       "array([[[ 0.0000000e+00,  1.1119392e+07,  7.0400000e+03, ...,\n",
       "          4.4000000e+01,  8.0000000e+00,  0.0000000e+00]],\n",
       "\n",
       "       [[-2.0190430e-01,  3.6962891e-01,  2.6269531e-01, ...,\n",
       "          4.3000000e+01,  1.0000000e+01,  1.0000000e+00]],\n",
       "\n",
       "       [[-3.1518555e-01,  7.0190430e-02, -2.3544312e-02, ...,\n",
       "          6.6000000e+01,  1.5000000e+01, -1.0000000e+00]],\n",
       "\n",
       "       ...,\n",
       "\n",
       "       [[-2.9028320e-01,  2.6367188e-01, -5.4931641e-04, ...,\n",
       "          1.2800000e+02,  1.9000000e+01,  0.0000000e+00]],\n",
       "\n",
       "       [[-1.2588501e-02,  3.2379150e-02,  3.2177734e-01, ...,\n",
       "          5.5000000e+01,  1.0000000e+01,  0.0000000e+00]],\n",
       "\n",
       "       [[-4.7949219e-01, -1.1035156e-01,  1.3903809e-01, ...,\n",
       "          1.1600000e+02,  1.9000000e+01, -1.0000000e+00]]], dtype=float32)"
      ]
     },
     "execution_count": 103,
     "metadata": {},
     "output_type": "execute_result"
    }
   ],
   "source": [
    "train_data"
   ]
  },
  {
   "cell_type": "code",
   "execution_count": 104,
   "metadata": {},
   "outputs": [
    {
     "data": {
      "text/plain": [
       "(5544,)"
      ]
     },
     "execution_count": 104,
     "metadata": {},
     "output_type": "execute_result"
    }
   ],
   "source": [
    "train_target.shape"
   ]
  },
  {
   "cell_type": "code",
   "execution_count": 105,
   "metadata": {},
   "outputs": [],
   "source": [
    "train_target[train_target==-1] = 2"
   ]
  },
  {
   "cell_type": "code",
   "execution_count": 106,
   "metadata": {
    "scrolled": true
   },
   "outputs": [
    {
     "data": {
      "text/plain": [
       "(5544,)"
      ]
     },
     "execution_count": 106,
     "metadata": {},
     "output_type": "execute_result"
    }
   ],
   "source": [
    "train_target.shape"
   ]
  },
  {
   "cell_type": "code",
   "execution_count": 107,
   "metadata": {},
   "outputs": [
    {
     "name": "stdout",
     "output_type": "stream",
     "text": [
      "Requirement already satisfied: tensorflow_addons in c:\\anaconda\\lib\\site-packages (0.17.1)\n",
      "Requirement already satisfied: typeguard>=2.7 in c:\\anaconda\\lib\\site-packages (from tensorflow_addons) (2.13.3)\n",
      "Requirement already satisfied: packaging in c:\\anaconda\\lib\\site-packages (from tensorflow_addons) (21.0)\n",
      "Requirement already satisfied: pyparsing>=2.0.2 in c:\\anaconda\\lib\\site-packages (from packaging->tensorflow_addons) (3.0.4)\n"
     ]
    },
    {
     "name": "stderr",
     "output_type": "stream",
     "text": [
      "WARNING: Ignoring invalid distribution -cikit-learn (c:\\anaconda\\lib\\site-packages)\n",
      "WARNING: Ignoring invalid distribution -andas (c:\\anaconda\\lib\\site-packages)\n",
      "WARNING: Ignoring invalid distribution -cikit-learn (c:\\anaconda\\lib\\site-packages)\n",
      "WARNING: Ignoring invalid distribution -andas (c:\\anaconda\\lib\\site-packages)\n",
      "WARNING: Ignoring invalid distribution -cikit-learn (c:\\anaconda\\lib\\site-packages)\n",
      "WARNING: Ignoring invalid distribution -andas (c:\\anaconda\\lib\\site-packages)\n",
      "WARNING: Ignoring invalid distribution -cikit-learn (c:\\anaconda\\lib\\site-packages)\n",
      "WARNING: Ignoring invalid distribution -andas (c:\\anaconda\\lib\\site-packages)\n",
      "WARNING: Ignoring invalid distribution -cikit-learn (c:\\anaconda\\lib\\site-packages)\n",
      "WARNING: Ignoring invalid distribution -andas (c:\\anaconda\\lib\\site-packages)\n",
      "WARNING: Ignoring invalid distribution -cikit-learn (c:\\anaconda\\lib\\site-packages)\n",
      "WARNING: Ignoring invalid distribution -andas (c:\\anaconda\\lib\\site-packages)\n"
     ]
    }
   ],
   "source": [
    "!pip install tensorflow_addons"
   ]
  },
  {
   "cell_type": "code",
   "execution_count": 144,
   "metadata": {},
   "outputs": [],
   "source": [
    "import numpy as np, pandas as pd\n",
    "import tensorflow_addons as tfa"
   ]
  },
  {
   "cell_type": "code",
   "execution_count": 119,
   "metadata": {
    "id": "89masdMr0Jlg"
   },
   "outputs": [],
   "source": [
    "model = tf.keras.Sequential([\n",
    "    tf.keras.layers.Flatten(input_shape=(1, 1795)),\n",
    "    #tf.keras.layers.Dense(512, activation='relu'),\n",
    "    #tf.keras.layers.Dropout(0.2),\n",
    "    tf.keras.layers.Dense(128, activation='relu'),\n",
    "    tf.keras.layers.Dropout(0.4),\n",
    "    tf.keras.layers.Dense(32, activation='relu'),\n",
    "    tf.keras.layers.Dense(3, activation='softmax')\n",
    "])\n",
    "\n",
    "model.compile(optimizer=tfa.optimizers.RectifiedAdam(0.0001),\n",
    "              loss=tf.keras.losses.SparseCategoricalCrossentropy(),\n",
    "              #tf.keras.metrics.Accuracy, , tfa.metrics.F1Score\n",
    "              metrics=['accuracy'])"
   ]
  },
  {
   "cell_type": "code",
   "execution_count": 120,
   "metadata": {},
   "outputs": [
    {
     "data": {
      "text/plain": [
       "array([1., 2., 0., ..., 0., 1., 1.], dtype=float32)"
      ]
     },
     "execution_count": 120,
     "metadata": {},
     "output_type": "execute_result"
    }
   ],
   "source": [
    "train_target"
   ]
  },
  {
   "cell_type": "code",
   "execution_count": 121,
   "metadata": {},
   "outputs": [
    {
     "data": {
      "text/plain": [
       "(5544, 3)"
      ]
     },
     "execution_count": 121,
     "metadata": {},
     "output_type": "execute_result"
    }
   ],
   "source": [
    "target = tf.keras.utils.to_categorical(\n",
    "    train_target, num_classes=3, dtype='float32'\n",
    ")\n",
    "target.shape"
   ]
  },
  {
   "cell_type": "code",
   "execution_count": 129,
   "metadata": {
    "id": "Ehrh9CXkIgEP"
   },
   "outputs": [
    {
     "name": "stdout",
     "output_type": "stream",
     "text": [
      "Epoch 1/50\n",
      "96/96 [==============================] - 0s 5ms/step - loss: 0.0743 - accuracy: 0.9800 - val_loss: 1.6514 - val_accuracy: 0.7053\n",
      "Epoch 2/50\n",
      "96/96 [==============================] - 0s 5ms/step - loss: 0.0828 - accuracy: 0.9754 - val_loss: 1.6255 - val_accuracy: 0.7132\n",
      "Epoch 3/50\n",
      "96/96 [==============================] - 0s 5ms/step - loss: 0.0705 - accuracy: 0.9793 - val_loss: 1.7794 - val_accuracy: 0.7136\n",
      "Epoch 4/50\n",
      "96/96 [==============================] - 0s 5ms/step - loss: 0.0725 - accuracy: 0.9806 - val_loss: 1.7127 - val_accuracy: 0.7125\n",
      "Epoch 5/50\n",
      "96/96 [==============================] - 0s 5ms/step - loss: 0.0689 - accuracy: 0.9823 - val_loss: 1.6102 - val_accuracy: 0.7002\n",
      "Epoch 6/50\n",
      "96/96 [==============================] - 0s 5ms/step - loss: 0.0718 - accuracy: 0.9770 - val_loss: 1.6168 - val_accuracy: 0.7060\n",
      "Epoch 7/50\n",
      "96/96 [==============================] - 0s 5ms/step - loss: 0.0682 - accuracy: 0.9797 - val_loss: 1.6225 - val_accuracy: 0.7017\n",
      "Epoch 8/50\n",
      "96/96 [==============================] - 0s 5ms/step - loss: 0.0723 - accuracy: 0.9764 - val_loss: 1.6414 - val_accuracy: 0.7053\n",
      "Epoch 9/50\n",
      "96/96 [==============================] - 0s 5ms/step - loss: 0.0724 - accuracy: 0.9793 - val_loss: 1.6730 - val_accuracy: 0.7107\n",
      "Epoch 10/50\n",
      "96/96 [==============================] - 0s 5ms/step - loss: 0.0710 - accuracy: 0.9784 - val_loss: 1.7494 - val_accuracy: 0.7146\n",
      "Epoch 11/50\n",
      "96/96 [==============================] - 0s 5ms/step - loss: 226231278632960.0000 - accuracy: 0.9770 - val_loss: 1.7832 - val_accuracy: 0.7139\n",
      "Epoch 12/50\n",
      "96/96 [==============================] - 0s 5ms/step - loss: 0.0625 - accuracy: 0.9816 - val_loss: 1.6422 - val_accuracy: 0.7045\n",
      "Epoch 13/50\n",
      "96/96 [==============================] - 0s 5ms/step - loss: 0.0739 - accuracy: 0.9757 - val_loss: 1.6639 - val_accuracy: 0.7074\n",
      "Epoch 14/50\n",
      "96/96 [==============================] - 0s 5ms/step - loss: 0.0668 - accuracy: 0.9813 - val_loss: 1.6911 - val_accuracy: 0.6941\n",
      "Epoch 15/50\n",
      "96/96 [==============================] - 0s 5ms/step - loss: 0.0690 - accuracy: 0.9780 - val_loss: 1.6212 - val_accuracy: 0.6995\n",
      "Epoch 16/50\n",
      "96/96 [==============================] - 0s 5ms/step - loss: 0.0669 - accuracy: 0.9810 - val_loss: 1.7469 - val_accuracy: 0.7132\n",
      "Epoch 17/50\n",
      "96/96 [==============================] - 0s 5ms/step - loss: 0.0699 - accuracy: 0.9797 - val_loss: 1.7380 - val_accuracy: 0.7085\n",
      "Epoch 18/50\n",
      "96/96 [==============================] - 0s 5ms/step - loss: 0.0737 - accuracy: 0.9793 - val_loss: 1.6431 - val_accuracy: 0.7085\n",
      "Epoch 19/50\n",
      "96/96 [==============================] - 0s 5ms/step - loss: 0.0677 - accuracy: 0.9790 - val_loss: 1.6774 - val_accuracy: 0.7074\n",
      "Epoch 20/50\n",
      "96/96 [==============================] - 0s 5ms/step - loss: 0.0672 - accuracy: 0.9800 - val_loss: 1.7875 - val_accuracy: 0.7139\n",
      "Epoch 21/50\n",
      "96/96 [==============================] - 0s 4ms/step - loss: 0.0654 - accuracy: 0.9823 - val_loss: 1.7498 - val_accuracy: 0.7125\n",
      "Epoch 22/50\n",
      "96/96 [==============================] - 0s 5ms/step - loss: 0.0767 - accuracy: 0.9754 - val_loss: 1.7358 - val_accuracy: 0.7042\n",
      "Epoch 23/50\n",
      "96/96 [==============================] - 0s 5ms/step - loss: 0.0635 - accuracy: 0.9826 - val_loss: 1.7023 - val_accuracy: 0.7045\n",
      "Epoch 24/50\n",
      "96/96 [==============================] - 0s 5ms/step - loss: 0.0686 - accuracy: 0.9797 - val_loss: 1.7363 - val_accuracy: 0.7110\n",
      "Epoch 25/50\n",
      "96/96 [==============================] - 0s 5ms/step - loss: 0.0639 - accuracy: 0.9826 - val_loss: 1.7051 - val_accuracy: 0.6991\n",
      "Epoch 26/50\n",
      "96/96 [==============================] - 0s 5ms/step - loss: 0.0716 - accuracy: 0.9767 - val_loss: 1.7081 - val_accuracy: 0.7128\n",
      "Epoch 27/50\n",
      "96/96 [==============================] - 0s 5ms/step - loss: 0.0685 - accuracy: 0.9790 - val_loss: 1.7252 - val_accuracy: 0.7038\n",
      "Epoch 28/50\n",
      "96/96 [==============================] - 0s 5ms/step - loss: 0.0663 - accuracy: 0.9774 - val_loss: 1.7170 - val_accuracy: 0.7060\n",
      "Epoch 29/50\n",
      "96/96 [==============================] - 0s 5ms/step - loss: 0.0665 - accuracy: 0.9813 - val_loss: 1.7490 - val_accuracy: 0.7118\n",
      "Epoch 30/50\n",
      "96/96 [==============================] - 0s 5ms/step - loss: 0.0676 - accuracy: 0.9810 - val_loss: 1.7661 - val_accuracy: 0.7042\n",
      "Epoch 31/50\n",
      "96/96 [==============================] - 0s 5ms/step - loss: 0.0590 - accuracy: 0.9849 - val_loss: 1.8297 - val_accuracy: 0.7082\n",
      "Epoch 32/50\n",
      "96/96 [==============================] - 0s 5ms/step - loss: 0.0626 - accuracy: 0.9839 - val_loss: 1.7705 - val_accuracy: 0.7103\n",
      "Epoch 33/50\n",
      "96/96 [==============================] - 0s 5ms/step - loss: 0.0681 - accuracy: 0.9774 - val_loss: 1.7144 - val_accuracy: 0.6944\n",
      "Epoch 34/50\n",
      "96/96 [==============================] - 0s 4ms/step - loss: 0.0718 - accuracy: 0.9797 - val_loss: 1.7396 - val_accuracy: 0.7024\n",
      "Epoch 35/50\n",
      "96/96 [==============================] - 0s 5ms/step - loss: 0.0598 - accuracy: 0.9813 - val_loss: 1.8368 - val_accuracy: 0.7085\n",
      "Epoch 36/50\n",
      "96/96 [==============================] - 0s 5ms/step - loss: 0.0566 - accuracy: 0.9839 - val_loss: 1.8229 - val_accuracy: 0.7049\n",
      "Epoch 37/50\n",
      "96/96 [==============================] - 0s 5ms/step - loss: 0.0639 - accuracy: 0.9797 - val_loss: 1.7857 - val_accuracy: 0.7078\n",
      "Epoch 38/50\n",
      "96/96 [==============================] - 0s 5ms/step - loss: 0.0664 - accuracy: 0.9793 - val_loss: 1.8883 - val_accuracy: 0.7078\n",
      "Epoch 39/50\n",
      "96/96 [==============================] - 0s 5ms/step - loss: 0.0661 - accuracy: 0.9800 - val_loss: 1.7582 - val_accuracy: 0.7006\n",
      "Epoch 40/50\n",
      "96/96 [==============================] - 0s 5ms/step - loss: 0.0653 - accuracy: 0.9790 - val_loss: 1.6866 - val_accuracy: 0.6923\n",
      "Epoch 41/50\n",
      "96/96 [==============================] - 0s 5ms/step - loss: 0.0653 - accuracy: 0.9803 - val_loss: 1.8054 - val_accuracy: 0.7049\n",
      "Epoch 42/50\n",
      "96/96 [==============================] - 0s 5ms/step - loss: 0.0639 - accuracy: 0.9777 - val_loss: 1.8622 - val_accuracy: 0.7035\n",
      "Epoch 43/50\n",
      "96/96 [==============================] - 0s 5ms/step - loss: 0.0657 - accuracy: 0.9800 - val_loss: 1.8051 - val_accuracy: 0.6977\n",
      "Epoch 44/50\n",
      "96/96 [==============================] - 0s 5ms/step - loss: 0.0595 - accuracy: 0.9820 - val_loss: 1.8899 - val_accuracy: 0.7103\n",
      "Epoch 45/50\n",
      "96/96 [==============================] - 0s 5ms/step - loss: 0.0766 - accuracy: 0.9744 - val_loss: 1.7629 - val_accuracy: 0.7067\n",
      "Epoch 46/50\n",
      "96/96 [==============================] - 0s 5ms/step - loss: 0.0646 - accuracy: 0.9793 - val_loss: 1.7440 - val_accuracy: 0.6991\n",
      "Epoch 47/50\n",
      "96/96 [==============================] - 0s 5ms/step - loss: 0.0627 - accuracy: 0.9797 - val_loss: 1.7277 - val_accuracy: 0.6991\n",
      "Epoch 48/50\n",
      "96/96 [==============================] - 0s 4ms/step - loss: 0.0605 - accuracy: 0.9829 - val_loss: 1.9183 - val_accuracy: 0.7074\n",
      "Epoch 49/50\n",
      "96/96 [==============================] - 0s 5ms/step - loss: 0.0592 - accuracy: 0.9820 - val_loss: 1.8244 - val_accuracy: 0.7027\n",
      "Epoch 50/50\n",
      "96/96 [==============================] - 0s 5ms/step - loss: 0.0544 - accuracy: 0.9879 - val_loss: 1.7620 - val_accuracy: 0.7017\n"
     ]
    }
   ],
   "source": [
    "history = model.fit(train_data, train_target, validation_split=0.45, epochs=50)"
   ]
  },
  {
   "cell_type": "code",
   "execution_count": 130,
   "metadata": {},
   "outputs": [],
   "source": [
    "test_target = np_tensor_test_target.flatten()\n",
    "test_data = np.reshape(np_tensor_test, (1496,1,1795)) # np_tensor_test"
   ]
  },
  {
   "cell_type": "code",
   "execution_count": 131,
   "metadata": {},
   "outputs": [],
   "source": [
    "test_target[test_target==-1] = 2"
   ]
  },
  {
   "cell_type": "code",
   "execution_count": 132,
   "metadata": {},
   "outputs": [
    {
     "name": "stdout",
     "output_type": "stream",
     "text": [
      "47/47 - 0s - loss: 190646691962028032.0000 - accuracy: 0.4412 - 81ms/epoch - 2ms/step\n",
      "\n",
      "Confusion Matrix: 0.44117647409439087\n"
     ]
    }
   ],
   "source": [
    "test_loss, test_acc = model.evaluate(test_data,  test_target, verbose=2)\n",
    "\n",
    "print('\\nConfusion Matrix:', test_acc)"
   ]
  },
  {
   "cell_type": "code",
   "execution_count": 133,
   "metadata": {},
   "outputs": [],
   "source": [
    "probability_model = tf.keras.Sequential([model, \n",
    "                                         tf.keras.layers.Softmax()])"
   ]
  },
  {
   "cell_type": "code",
   "execution_count": 137,
   "metadata": {},
   "outputs": [
    {
     "data": {
      "text/plain": [
       "array([[0.21194157, 0.5761169 , 0.21194157],\n",
       "       [0.21733162, 0.22346786, 0.5592005 ],\n",
       "       [0.5745643 , 0.21312536, 0.21231036],\n",
       "       ...,\n",
       "       [0.2119416 , 0.57611686, 0.21194157],\n",
       "       [0.21246977, 0.5752986 , 0.21223162],\n",
       "       [0.22000183, 0.56597286, 0.21402532]], dtype=float32)"
      ]
     },
     "execution_count": 137,
     "metadata": {},
     "output_type": "execute_result"
    }
   ],
   "source": [
    "predictions_train = probability_model.predict(train_data)\n",
    "predictions_train"
   ]
  },
  {
   "cell_type": "code",
   "execution_count": 138,
   "metadata": {},
   "outputs": [
    {
     "data": {
      "text/plain": [
       "array([[0.21194157, 0.5761169 , 0.21194157],\n",
       "       [0.2119469 , 0.5760931 , 0.21196   ],\n",
       "       [0.21194246, 0.5761138 , 0.21194372],\n",
       "       ...,\n",
       "       [0.21194354, 0.57610923, 0.21194728],\n",
       "       [0.21198255, 0.576064  , 0.21195342],\n",
       "       [0.21194157, 0.5761169 , 0.21194157]], dtype=float32)"
      ]
     },
     "execution_count": 138,
     "metadata": {},
     "output_type": "execute_result"
    }
   ],
   "source": [
    "predictions_test = probability_model.predict(test_data)\n",
    "predictions_test"
   ]
  },
  {
   "cell_type": "code",
   "execution_count": 141,
   "metadata": {},
   "outputs": [
    {
     "data": {
      "text/plain": [
       "(5544, 1496)"
      ]
     },
     "execution_count": 141,
     "metadata": {},
     "output_type": "execute_result"
    }
   ],
   "source": [
    "len(predictions_train), len(predictions_test)"
   ]
  },
  {
   "cell_type": "code",
   "execution_count": 139,
   "metadata": {},
   "outputs": [
    {
     "data": {
      "text/plain": [
       "(1, 1.0)"
      ]
     },
     "execution_count": 139,
     "metadata": {},
     "output_type": "execute_result"
    }
   ],
   "source": [
    "np.argmax(predictions_train[5]), train_target[5]"
   ]
  },
  {
   "cell_type": "code",
   "execution_count": 140,
   "metadata": {},
   "outputs": [
    {
     "data": {
      "text/plain": [
       "(1, 0.0)"
      ]
     },
     "execution_count": 140,
     "metadata": {},
     "output_type": "execute_result"
    }
   ],
   "source": [
    "np.argmax(predictions_test[5]), test_target[5]"
   ]
  },
  {
   "cell_type": "code",
   "execution_count": 147,
   "metadata": {},
   "outputs": [
    {
     "data": {
      "text/html": [
       "<div>\n",
       "<style scoped>\n",
       "    .dataframe tbody tr th:only-of-type {\n",
       "        vertical-align: middle;\n",
       "    }\n",
       "\n",
       "    .dataframe tbody tr th {\n",
       "        vertical-align: top;\n",
       "    }\n",
       "\n",
       "    .dataframe thead th {\n",
       "        text-align: right;\n",
       "    }\n",
       "</style>\n",
       "<table border=\"1\" class=\"dataframe\">\n",
       "  <thead>\n",
       "    <tr style=\"text-align: right;\">\n",
       "      <th></th>\n",
       "      <th>y_true_train</th>\n",
       "      <th>y_pred_train</th>\n",
       "    </tr>\n",
       "  </thead>\n",
       "  <tbody>\n",
       "    <tr>\n",
       "      <th>0</th>\n",
       "      <td>1.0</td>\n",
       "      <td>1</td>\n",
       "    </tr>\n",
       "    <tr>\n",
       "      <th>1</th>\n",
       "      <td>2.0</td>\n",
       "      <td>2</td>\n",
       "    </tr>\n",
       "    <tr>\n",
       "      <th>2</th>\n",
       "      <td>0.0</td>\n",
       "      <td>0</td>\n",
       "    </tr>\n",
       "    <tr>\n",
       "      <th>3</th>\n",
       "      <td>1.0</td>\n",
       "      <td>1</td>\n",
       "    </tr>\n",
       "    <tr>\n",
       "      <th>4</th>\n",
       "      <td>1.0</td>\n",
       "      <td>1</td>\n",
       "    </tr>\n",
       "  </tbody>\n",
       "</table>\n",
       "</div>"
      ],
      "text/plain": [
       "   y_true_train  y_pred_train\n",
       "0           1.0             1\n",
       "1           2.0             2\n",
       "2           0.0             0\n",
       "3           1.0             1\n",
       "4           1.0             1"
      ]
     },
     "execution_count": 147,
     "metadata": {},
     "output_type": "execute_result"
    }
   ],
   "source": [
    "y_true_train, y_pred_train = [],[]\n",
    "for i in range(len(predictions_train)):\n",
    "    y_true_train.append(np.argmax(predictions_train[i]))\n",
    "    y_pred_train.append(train_target[i])\n",
    "\n",
    "train_result_df = pd.DataFrame(y_true_train, y_pred_train).reset_index()\n",
    "train_result_df.columns = ['y_true_train', 'y_pred_train']\n",
    "train_result_df.head()"
   ]
  },
  {
   "cell_type": "code",
   "execution_count": 148,
   "metadata": {},
   "outputs": [
    {
     "data": {
      "text/html": [
       "<div>\n",
       "<style scoped>\n",
       "    .dataframe tbody tr th:only-of-type {\n",
       "        vertical-align: middle;\n",
       "    }\n",
       "\n",
       "    .dataframe tbody tr th {\n",
       "        vertical-align: top;\n",
       "    }\n",
       "\n",
       "    .dataframe thead th {\n",
       "        text-align: right;\n",
       "    }\n",
       "</style>\n",
       "<table border=\"1\" class=\"dataframe\">\n",
       "  <thead>\n",
       "    <tr style=\"text-align: right;\">\n",
       "      <th></th>\n",
       "      <th>y_true_test</th>\n",
       "      <th>y_pred_tes</th>\n",
       "    </tr>\n",
       "  </thead>\n",
       "  <tbody>\n",
       "    <tr>\n",
       "      <th>0</th>\n",
       "      <td>0.0</td>\n",
       "      <td>1</td>\n",
       "    </tr>\n",
       "    <tr>\n",
       "      <th>1</th>\n",
       "      <td>1.0</td>\n",
       "      <td>1</td>\n",
       "    </tr>\n",
       "    <tr>\n",
       "      <th>2</th>\n",
       "      <td>1.0</td>\n",
       "      <td>1</td>\n",
       "    </tr>\n",
       "    <tr>\n",
       "      <th>3</th>\n",
       "      <td>1.0</td>\n",
       "      <td>1</td>\n",
       "    </tr>\n",
       "    <tr>\n",
       "      <th>4</th>\n",
       "      <td>2.0</td>\n",
       "      <td>1</td>\n",
       "    </tr>\n",
       "  </tbody>\n",
       "</table>\n",
       "</div>"
      ],
      "text/plain": [
       "   y_true_test  y_pred_tes\n",
       "0          0.0           1\n",
       "1          1.0           1\n",
       "2          1.0           1\n",
       "3          1.0           1\n",
       "4          2.0           1"
      ]
     },
     "execution_count": 148,
     "metadata": {},
     "output_type": "execute_result"
    }
   ],
   "source": [
    "y_true_test, y_pred_test = [],[]\n",
    "for i in range(len(predictions_test)):\n",
    "    y_true_test.append(np.argmax(predictions_test[i]))\n",
    "    y_pred_test.append(test_target[i])\n",
    "\n",
    "test_result_df = pd.DataFrame(y_true_test, y_pred_test).reset_index()\n",
    "test_result_df.columns = ['y_true_test', 'y_pred_tes']\n",
    "test_result_df.head()"
   ]
  },
  {
   "cell_type": "code",
   "execution_count": 159,
   "metadata": {},
   "outputs": [],
   "source": [
    "train_result_df.to_csv('train_result.csv', index=False)\n",
    "test_result_df.to_csv('test_result.csv', index=False)"
   ]
  },
  {
   "cell_type": "code",
   "execution_count": 150,
   "metadata": {},
   "outputs": [],
   "source": [
    "from sklearn.metrics import confusion_matrix"
   ]
  },
  {
   "cell_type": "code",
   "execution_count": 152,
   "metadata": {},
   "outputs": [
    {
     "data": {
      "text/plain": [
       "array([[1329,  249,   38],\n",
       "       [ 351, 3021,  101],\n",
       "       [  35,   56,  364]], dtype=int64)"
      ]
     },
     "execution_count": 152,
     "metadata": {},
     "output_type": "execute_result"
    }
   ],
   "source": [
    "confusion_matrix(y_true_train, y_pred_train)"
   ]
  },
  {
   "cell_type": "code",
   "execution_count": 153,
   "metadata": {},
   "outputs": [
    {
     "data": {
      "text/plain": [
       "array([[ 45, 157,  96],\n",
       "       [120, 588, 397],\n",
       "       [ 12,  54,  27]], dtype=int64)"
      ]
     },
     "execution_count": 153,
     "metadata": {},
     "output_type": "execute_result"
    }
   ],
   "source": [
    "confusion_matrix(y_true_test, y_pred_test)"
   ]
  },
  {
   "cell_type": "code",
   "execution_count": 154,
   "metadata": {},
   "outputs": [],
   "source": [
    "from sklearn.metrics import f1_score"
   ]
  },
  {
   "cell_type": "code",
   "execution_count": 156,
   "metadata": {},
   "outputs": [
    {
     "data": {
      "text/plain": [
       "0.8502886002886003"
      ]
     },
     "execution_count": 156,
     "metadata": {},
     "output_type": "execute_result"
    }
   ],
   "source": [
    "f1_score(y_true_train, y_pred_train, zero_division=1, average='micro')"
   ]
  },
  {
   "cell_type": "code",
   "execution_count": 157,
   "metadata": {},
   "outputs": [
    {
     "data": {
      "text/plain": [
       "0.4411764705882353"
      ]
     },
     "execution_count": 157,
     "metadata": {},
     "output_type": "execute_result"
    }
   ],
   "source": [
    "f1_score(y_true_test, y_pred_test, zero_division=1, average='micro')"
   ]
  },
  {
   "cell_type": "code",
   "execution_count": 160,
   "metadata": {},
   "outputs": [],
   "source": [
    "from sklearn.metrics import accuracy_score, recall_score"
   ]
  },
  {
   "cell_type": "code",
   "execution_count": 162,
   "metadata": {},
   "outputs": [
    {
     "data": {
      "text/plain": [
       "0.4411764705882353"
      ]
     },
     "execution_count": 162,
     "metadata": {},
     "output_type": "execute_result"
    }
   ],
   "source": [
    "accuracy_score(y_true_test, y_pred_test)"
   ]
  },
  {
   "cell_type": "code",
   "execution_count": 165,
   "metadata": {},
   "outputs": [
    {
     "data": {
      "text/plain": [
       "0.4411764705882353"
      ]
     },
     "execution_count": 165,
     "metadata": {},
     "output_type": "execute_result"
    }
   ],
   "source": [
    "recall_score(y_true_test, y_pred_test, zero_division=1, average='micro')"
   ]
  },
  {
   "cell_type": "markdown",
   "metadata": {},
   "source": [
    "# ###############################################################\n",
    "# End of Model Training and Testing"
   ]
  },
  {
   "cell_type": "code",
   "execution_count": 126,
   "metadata": {},
   "outputs": [
    {
     "data": {
      "text/plain": [
       "(1496, 3)"
      ]
     },
     "execution_count": 126,
     "metadata": {},
     "output_type": "execute_result"
    }
   ],
   "source": [
    "target_test = tf.keras.utils.to_categorical(\n",
    "    test_target, num_classes=3, dtype='float32'\n",
    ")\n",
    "target_test.shape"
   ]
  },
  {
   "cell_type": "code",
   "execution_count": 41,
   "metadata": {},
   "outputs": [
    {
     "data": {
      "text/plain": [
       "dict_keys(['loss', 'f1_score', 'val_loss', 'val_f1_score'])"
      ]
     },
     "execution_count": 41,
     "metadata": {},
     "output_type": "execute_result"
    }
   ],
   "source": [
    "history_dict = history.history\n",
    "history_dict.keys()"
   ]
  },
  {
   "cell_type": "code",
   "execution_count": 40,
   "metadata": {
    "id": "tfQ3svJ0IkUP"
   },
   "outputs": [],
   "source": [
    "train_target = np_tensor_train_target.flatten()\n",
    "train_data = np.reshape(np_tensor_train, (4500,1,1795)) # np_tensor_train"
   ]
  },
  {
   "cell_type": "code",
   "execution_count": 41,
   "metadata": {},
   "outputs": [
    {
     "data": {
      "text/plain": [
       "(4500,)"
      ]
     },
     "execution_count": 41,
     "metadata": {},
     "output_type": "execute_result"
    }
   ],
   "source": [
    "train_target.shape"
   ]
  },
  {
   "cell_type": "code",
   "execution_count": 42,
   "metadata": {},
   "outputs": [],
   "source": [
    "train_target[train_target==-1] = 2"
   ]
  },
  {
   "cell_type": "code",
   "execution_count": 43,
   "metadata": {},
   "outputs": [],
   "source": [
    "#?model.fit"
   ]
  },
  {
   "cell_type": "code",
   "execution_count": 44,
   "metadata": {},
   "outputs": [],
   "source": [
    "val_target = np_tensor_val_target.flatten()\n",
    "val_data = np.reshape(np_tensor_val, (1044,1,1795)) # np_tensor_test"
   ]
  },
  {
   "cell_type": "code",
   "execution_count": 45,
   "metadata": {},
   "outputs": [],
   "source": [
    "val_target[val_target==-1] = 2"
   ]
  },
  {
   "cell_type": "code",
   "execution_count": 46,
   "metadata": {},
   "outputs": [],
   "source": [
    "test_target = np_tensor_test_target.flatten()\n",
    "test_data = np.reshape(np_tensor_test, (1496,1,1795)) # np_tensor_test"
   ]
  },
  {
   "cell_type": "code",
   "execution_count": 47,
   "metadata": {},
   "outputs": [],
   "source": [
    "test_target[test_target==-1] = 2"
   ]
  },
  {
   "cell_type": "code",
   "execution_count": 38,
   "metadata": {},
   "outputs": [],
   "source": [
    "import numpy as np, pandas as pd\n",
    "import matplotlib.pyplot as plt"
   ]
  },
  {
   "cell_type": "code",
   "execution_count": 25,
   "metadata": {},
   "outputs": [
    {
     "data": {
      "text/plain": [
       "'acc = history_dict[\\'accuracy\\']\\nval_acc = history_dict[\\'val_accuracy\\']\\nloss = history_dict[\\'loss\\']\\nval_loss = history_dict[\\'val_loss\\']\\n\\nepochs = range(1, len(acc) + 1)\\n\\n# \"bo\" is for \"blue dot\"\\nplt.plot(epochs, loss, \\'bo\\', label=\\'Training loss\\')\\n# b is for \"solid blue line\"\\nplt.plot(epochs, val_loss, \\'b\\', label=\\'Validation loss\\')\\nplt.title(\\'Training and validation loss\\')\\nplt.xlabel(\\'Epochs\\')\\nplt.ylabel(\\'Loss\\')\\nplt.legend()\\n\\nplt.show()'"
      ]
     },
     "execution_count": 25,
     "metadata": {},
     "output_type": "execute_result"
    }
   ],
   "source": [
    "\"\"\"acc = history_dict['accuracy']\n",
    "val_acc = history_dict['val_accuracy']\n",
    "loss = history_dict['loss']\n",
    "val_loss = history_dict['val_loss']\n",
    "\n",
    "epochs = range(1, len(acc) + 1)\n",
    "\n",
    "# \"bo\" is for \"blue dot\"\n",
    "plt.plot(epochs, loss, 'bo', label='Training loss')\n",
    "# b is for \"solid blue line\"\n",
    "plt.plot(epochs, val_loss, 'b', label='Validation loss')\n",
    "plt.title('Training and validation loss')\n",
    "plt.xlabel('Epochs')\n",
    "plt.ylabel('Loss')\n",
    "plt.legend()\n",
    "\n",
    "plt.show()\"\"\""
   ]
  },
  {
   "cell_type": "code",
   "execution_count": 56,
   "metadata": {},
   "outputs": [
    {
     "name": "stdout",
     "output_type": "stream",
     "text": [
      "Epoch 1/40\n",
      "141/141 [==============================] - 1s 3ms/step - loss: 1465168097705984.0000 - accuracy: 0.5678 - val_loss: 0.8687 - val_accuracy: 0.6226 - lr: 0.0050\n",
      "Epoch 2/40\n",
      "141/141 [==============================] - 0s 2ms/step - loss: 0.8987 - accuracy: 0.5927 - val_loss: 0.8838 - val_accuracy: 0.6226 - lr: 0.0050\n",
      "Epoch 3/40\n",
      "141/141 [==============================] - 0s 2ms/step - loss: 0.8982 - accuracy: 0.5927 - val_loss: 0.8660 - val_accuracy: 0.6226 - lr: 0.0050\n",
      "Epoch 4/40\n",
      "141/141 [==============================] - 0s 2ms/step - loss: 0.8886 - accuracy: 0.5927 - val_loss: 0.8739 - val_accuracy: 0.6226 - lr: 0.0050\n",
      "Epoch 5/40\n",
      "141/141 [==============================] - 0s 2ms/step - loss: 0.8791 - accuracy: 0.5962 - val_loss: 0.8736 - val_accuracy: 0.6236 - lr: 0.0050\n",
      "Epoch 6/40\n",
      "141/141 [==============================] - 0s 2ms/step - loss: 0.8695 - accuracy: 0.5958 - val_loss: 0.8755 - val_accuracy: 0.6226 - lr: 0.0050\n",
      "Epoch 7/40\n",
      "141/141 [==============================] - 0s 2ms/step - loss: 0.8646 - accuracy: 0.5978 - val_loss: 0.8877 - val_accuracy: 0.6216 - lr: 0.0050\n",
      "Epoch 8/40\n",
      "141/141 [==============================] - 0s 2ms/step - loss: 0.8476 - accuracy: 0.6064 - val_loss: 0.8921 - val_accuracy: 0.6178 - lr: 0.0050\n",
      "Epoch 9/40\n",
      "141/141 [==============================] - 0s 2ms/step - loss: 0.8365 - accuracy: 0.6080 - val_loss: 0.9314 - val_accuracy: 0.6216 - lr: 0.0050\n",
      "Epoch 10/40\n",
      "141/141 [==============================] - 0s 2ms/step - loss: 0.8256 - accuracy: 0.6167 - val_loss: 0.8932 - val_accuracy: 0.5939 - lr: 0.0050\n",
      "Epoch 11/40\n",
      "141/141 [==============================] - 0s 2ms/step - loss: 0.8175 - accuracy: 0.6173 - val_loss: 0.9134 - val_accuracy: 0.6188 - lr: 0.0050\n",
      "Epoch 12/40\n",
      "141/141 [==============================] - 0s 2ms/step - loss: 0.8104 - accuracy: 0.6267 - val_loss: 0.8949 - val_accuracy: 0.6102 - lr: 0.0050\n",
      "Epoch 13/40\n",
      "141/141 [==============================] - 0s 2ms/step - loss: 0.7952 - accuracy: 0.6311 - val_loss: 0.9187 - val_accuracy: 0.5987 - lr: 0.0050\n",
      "Epoch 14/40\n",
      "141/141 [==============================] - 0s 2ms/step - loss: 0.7893 - accuracy: 0.6284 - val_loss: 0.9511 - val_accuracy: 0.5239 - lr: 0.0050\n",
      "Epoch 15/40\n",
      "141/141 [==============================] - 0s 2ms/step - loss: 0.7667 - accuracy: 0.6367 - val_loss: 0.9339 - val_accuracy: 0.6111 - lr: 0.0050\n",
      "Epoch 16/40\n",
      "141/141 [==============================] - 0s 2ms/step - loss: 0.7680 - accuracy: 0.6424 - val_loss: 0.9564 - val_accuracy: 0.5900 - lr: 0.0050\n",
      "Epoch 17/40\n",
      "141/141 [==============================] - 0s 2ms/step - loss: 0.7573 - accuracy: 0.6371 - val_loss: 0.9886 - val_accuracy: 0.5383 - lr: 0.0050\n",
      "Epoch 18/40\n",
      "141/141 [==============================] - 0s 2ms/step - loss: 0.7316 - accuracy: 0.6518 - val_loss: 0.9749 - val_accuracy: 0.5996 - lr: 0.0050\n",
      "Epoch 19/40\n",
      "141/141 [==============================] - 0s 2ms/step - loss: 0.7159 - accuracy: 0.6624 - val_loss: 0.9886 - val_accuracy: 0.5881 - lr: 0.0050\n",
      "Epoch 20/40\n",
      "141/141 [==============================] - 0s 2ms/step - loss: 0.7005 - accuracy: 0.6678 - val_loss: 1.0927 - val_accuracy: 0.4923 - lr: 0.0050\n",
      "Epoch 21/40\n",
      "141/141 [==============================] - 0s 2ms/step - loss: 0.6865 - accuracy: 0.6760 - val_loss: 1.0209 - val_accuracy: 0.6054 - lr: 0.0050\n",
      "Epoch 22/40\n",
      "141/141 [==============================] - 0s 2ms/step - loss: 27956775353319424.0000 - accuracy: 0.6320 - val_loss: 1.0054 - val_accuracy: 0.6169 - lr: 0.0050\n",
      "Epoch 23/40\n",
      "141/141 [==============================] - 0s 2ms/step - loss: 0.7071 - accuracy: 0.6578 - val_loss: 1.2193 - val_accuracy: 0.5623 - lr: 0.0050\n",
      "Epoch 24/40\n",
      "141/141 [==============================] - 0s 2ms/step - loss: 0.6953 - accuracy: 0.6720 - val_loss: 1.0961 - val_accuracy: 0.5575 - lr: 0.0050\n",
      "Epoch 25/40\n",
      "141/141 [==============================] - 0s 2ms/step - loss: 0.6705 - accuracy: 0.6853 - val_loss: 1.1657 - val_accuracy: 0.5603 - lr: 0.0050\n",
      "Epoch 26/40\n",
      "141/141 [==============================] - 0s 2ms/step - loss: 0.6599 - accuracy: 0.6831 - val_loss: 1.1753 - val_accuracy: 0.5699 - lr: 0.0050\n",
      "Epoch 27/40\n",
      "141/141 [==============================] - 0s 2ms/step - loss: 0.6736 - accuracy: 0.6771 - val_loss: 1.1385 - val_accuracy: 0.5067 - lr: 0.0050\n",
      "Epoch 28/40\n",
      "141/141 [==============================] - 0s 2ms/step - loss: 0.6585 - accuracy: 0.6816 - val_loss: 1.1953 - val_accuracy: 0.5412 - lr: 0.0050\n",
      "Epoch 29/40\n",
      "141/141 [==============================] - 0s 2ms/step - loss: 0.6232 - accuracy: 0.7022 - val_loss: 1.3302 - val_accuracy: 0.5402 - lr: 0.0050\n",
      "Epoch 30/40\n",
      "141/141 [==============================] - 0s 2ms/step - loss: 0.6456 - accuracy: 0.6862 - val_loss: 1.1411 - val_accuracy: 0.5556 - lr: 0.0050\n",
      "Epoch 31/40\n",
      "141/141 [==============================] - 0s 2ms/step - loss: 0.6173 - accuracy: 0.6884 - val_loss: 1.2625 - val_accuracy: 0.5479 - lr: 0.0050\n",
      "Epoch 32/40\n",
      "141/141 [==============================] - 0s 2ms/step - loss: 0.6077 - accuracy: 0.7002 - val_loss: 1.3249 - val_accuracy: 0.4990 - lr: 0.0050\n",
      "Epoch 33/40\n",
      "141/141 [==============================] - 0s 2ms/step - loss: 0.6150 - accuracy: 0.6936 - val_loss: 1.3595 - val_accuracy: 0.5546 - lr: 0.0050\n",
      "Epoch 34/40\n",
      "141/141 [==============================] - 0s 2ms/step - loss: 0.5898 - accuracy: 0.7058 - val_loss: 1.2769 - val_accuracy: 0.5632 - lr: 0.0050\n",
      "Epoch 35/40\n",
      "141/141 [==============================] - 0s 2ms/step - loss: 0.5816 - accuracy: 0.7053 - val_loss: 1.2862 - val_accuracy: 0.5469 - lr: 0.0050\n",
      "Epoch 36/40\n",
      "141/141 [==============================] - 0s 2ms/step - loss: 0.6073 - accuracy: 0.6973 - val_loss: 1.1902 - val_accuracy: 0.5718 - lr: 0.0050\n",
      "Epoch 37/40\n",
      "141/141 [==============================] - 0s 2ms/step - loss: 0.5688 - accuracy: 0.7147 - val_loss: 1.3896 - val_accuracy: 0.5259 - lr: 0.0050\n",
      "Epoch 38/40\n",
      "141/141 [==============================] - 0s 2ms/step - loss: 0.5594 - accuracy: 0.7276 - val_loss: 1.3531 - val_accuracy: 0.5546 - lr: 0.0050\n",
      "Epoch 39/40\n",
      "141/141 [==============================] - 0s 2ms/step - loss: 0.5497 - accuracy: 0.7147 - val_loss: 1.4401 - val_accuracy: 0.5029 - lr: 0.0050\n",
      "Epoch 40/40\n",
      "141/141 [==============================] - 0s 2ms/step - loss: 0.5414 - accuracy: 0.7282 - val_loss: 1.5237 - val_accuracy: 0.5297 - lr: 0.0050\n"
     ]
    }
   ],
   "source": [
    "#set random seed\n",
    "tf.random.set_seed(42)\n",
    "#create the model\n",
    "model_12=tf.keras.Sequential([\n",
    "    tf.keras.layers.Flatten(input_shape=(1, 1795)),\n",
    "    #tf.keras.layers.Dense(512,activation=\"relu\"),\n",
    "    #tf.keras.layers.Dropout(0.2),\n",
    "    tf.keras.layers.Dense(128,activation=\"relu\"),\n",
    "    tf.keras.layers.Dropout(0.2),\n",
    "    tf.keras.layers.Dense(32,activation=\"relu\"),\n",
    "    tf.keras.layers.Dense(3,activation=\"softmax\")\n",
    "])\n",
    "\n",
    "#compile the model\n",
    "model_12.compile(\n",
    "   loss=tf.keras.losses.SparseCategoricalCrossentropy(),\n",
    "   optimizer=tf.keras.optimizers.Adam(),\n",
    "   metrics=\"accuracy\")\n",
    "\n",
    "#create a learning rate callback\n",
    "lr_scheduler = tf.keras.callbacks.LearningRateScheduler(lambda epoch : 0.005)\n",
    "\n",
    "#fit the model\n",
    "fit_lr_history = model_12.fit(\n",
    "   train_data,\n",
    "   train_target,\n",
    "   epochs=40,\n",
    "   callbacks=[lr_scheduler],\n",
    "   validation_data=(val_data,val_target))"
   ]
  },
  {
   "cell_type": "code",
   "execution_count": null,
   "metadata": {},
   "outputs": [],
   "source": []
  }
 ],
 "metadata": {
  "colab": {
   "name": "Training_Meme_Sentiment_Classifier.ipynb",
   "provenance": []
  },
  "kernelspec": {
   "display_name": "Python 3 (ipykernel)",
   "language": "python",
   "name": "python3"
  },
  "language_info": {
   "codemirror_mode": {
    "name": "ipython",
    "version": 3
   },
   "file_extension": ".py",
   "mimetype": "text/x-python",
   "name": "python",
   "nbconvert_exporter": "python",
   "pygments_lexer": "ipython3",
   "version": "3.9.7"
  }
 },
 "nbformat": 4,
 "nbformat_minor": 1
}
