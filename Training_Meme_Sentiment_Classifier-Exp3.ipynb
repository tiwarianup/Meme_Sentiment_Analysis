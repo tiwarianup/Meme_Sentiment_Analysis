{
 "cells": [
  {
   "cell_type": "code",
   "execution_count": 1,
   "metadata": {
    "id": "oNCGAmQFwRSw"
   },
   "outputs": [],
   "source": [
    "import torch\n",
    "import tensorflow as tf"
   ]
  },
  {
   "cell_type": "code",
   "execution_count": 2,
   "metadata": {
    "colab": {
     "base_uri": "https://localhost:8080/"
    },
    "id": "gYg9a0U9weyV",
    "outputId": "fb6558b7-fc47-4225-c184-85dc890b3279"
   },
   "outputs": [
    {
     "data": {
      "text/plain": [
       "\"\\nfrom google.colab import drive\\ndrive.mount('/content/drive')\\n%cd /content/drive/My Drive/Data/\\n\""
      ]
     },
     "execution_count": 2,
     "metadata": {},
     "output_type": "execute_result"
    }
   ],
   "source": [
    "\"\"\"\n",
    "from google.colab import drive\n",
    "drive.mount('/content/drive')\n",
    "%cd /content/drive/My Drive/Data/\n",
    "\"\"\""
   ]
  },
  {
   "cell_type": "code",
   "execution_count": 3,
   "metadata": {
    "colab": {
     "base_uri": "https://localhost:8080/"
    },
    "id": "EtSUI4Gpwle6",
    "outputId": "e4348a4b-1113-4912-b976-bf7afe9f8954"
   },
   "outputs": [
    {
     "name": "stdout",
     "output_type": "stream",
     "text": [
      " Volume in drive C is Windows\n",
      " Volume Serial Number is 6C2B-C4B4\n",
      "\n",
      " Directory of C:\\Users\\appadmin\\Documents\\ResearchMS\n",
      "\n",
      "08/26/2022  04:27 PM    <DIR>          .\n",
      "08/26/2022  04:27 PM    <DIR>          ..\n",
      "08/26/2022  04:27 PM    <DIR>          .ipynb_checkpoints\n",
      "08/25/2022  10:18 PM        39,740,139 concat_features.pt\n",
      "08/26/2022  10:12 AM        10,724,075 concat_features_test.pt\n",
      "08/25/2022  03:23 PM    <DIR>          en_images-20220825T063442Z-001\n",
      "08/25/2022  12:10 PM       581,017,050 en_images-20220825T063442Z-001.zip\n",
      "08/25/2022  09:10 PM    <DIR>          en_test_images-20220825T152147Z-001\n",
      "08/26/2022  10:22 AM        17,349,050 Image_Caps_Embeddings-TestData.ipynb\n",
      "08/26/2022  02:02 PM        17,993,062 Image_Caps_Embeddings.ipynb\n",
      "08/25/2022  02:56 PM           328,827 image_captions.csv\n",
      "08/25/2022  12:04 PM           636,992 Labels_A.csv\n",
      "08/26/2022  10:07 AM           235,242 Labels_A_test_v1.csv\n",
      "08/25/2022  09:08 PM           900,016 Labels_A_v1.csv\n",
      "08/25/2022  10:15 PM           897,788 Labels_A_v1_sorted.csv\n",
      "08/25/2022  08:41 PM           230,212 Labels_test_A.csv\n",
      "08/26/2022  10:03 AM           299,875 Labels_test_A_v1.csv\n",
      "08/26/2022  01:59 PM        39,806,635 model_tensor.pt\n",
      "08/26/2022  02:00 PM            22,891 model_tensor_target.pt\n",
      "08/25/2022  03:38 PM        22,708,971 tensor_fin.pt\n",
      "08/25/2022  08:46 PM         6,128,363 tensor_fin_test.pt\n",
      "08/25/2022  09:04 PM           137,877 test_image_captions.csv\n",
      "08/26/2022  09:59 AM            71,670 test_order.csv\n",
      "08/26/2022  04:18 PM            10,496 test_result.csv\n",
      "08/26/2022  04:27 PM             7,332 test_result_1.csv\n",
      "08/26/2022  10:20 AM        10,741,995 test_tensor.pt\n",
      "08/26/2022  10:16 AM             6,699 test_tensor_target.pt\n",
      "08/26/2022  04:27 PM            37,053 Training_Meme_Sentiment_Classifier-Copy1.ipynb\n",
      "08/26/2022  04:27 PM            37,053 Training_Meme_Sentiment_Classifier-Copy2.ipynb\n",
      "08/26/2022  04:20 PM            49,439 Training_Meme_Sentiment_Classifier.ipynb\n",
      "08/26/2022  04:18 PM            38,835 train_result.csv\n",
      "08/26/2022  04:27 PM            31,527 train_result_1.csv\n",
      "08/25/2022  10:22 PM        39,806,635 train_tensor.pt\n",
      "08/26/2022  10:19 AM            22,891 train_tensor_target.pt\n",
      "08/25/2022  10:22 PM        39,806,635 val_tensor.pt\n",
      "08/26/2022  10:19 AM            22,891 val_tensor_target.pt\n",
      "              31 File(s)    829,848,216 bytes\n",
      "               5 Dir(s)  71,936,122,880 bytes free\n"
     ]
    }
   ],
   "source": [
    "!dir"
   ]
  },
  {
   "cell_type": "code",
   "execution_count": 4,
   "metadata": {
    "id": "EKTAreMnw_wm"
   },
   "outputs": [],
   "source": [
    "#testing tensors capability \n",
    "pytorch_tensor = torch.load('val_tensor.pt')\n",
    "np_tensor = pytorch_tensor.numpy()\n",
    "tf_tensor = tf.convert_to_tensor(np_tensor)\n",
    "pytorch_tensor_target = torch.load('val_tensor_target.pt')\n",
    "np_tensor_target = pytorch_tensor_target.numpy()\n",
    "tf_tensor_target = tf.convert_to_tensor(np_tensor_target)\n",
    "#print(pytorch_tensor, np_tensor, tf_tensor)\n",
    "#print(pytorch_tensor_target, np_tensor_target, tf_tensor_target)"
   ]
  },
  {
   "cell_type": "code",
   "execution_count": 5,
   "metadata": {
    "colab": {
     "base_uri": "https://localhost:8080/"
    },
    "id": "3EJxyw7_x1Jq",
    "outputId": "a2a8a01c-5865-4814-8b5f-b189fd56e390"
   },
   "outputs": [
    {
     "data": {
      "text/plain": [
       "(TensorShape([4500, 1795]), TensorShape([4500, 1]))"
      ]
     },
     "execution_count": 5,
     "metadata": {},
     "output_type": "execute_result"
    }
   ],
   "source": [
    "#read training, target tensor\n",
    "pt_tensor_train = torch.load('train_tensor.pt')\n",
    "np_tensor_train = pt_tensor_train.numpy()\n",
    "tf_tensor_train = tf.convert_to_tensor(np_tensor_train)\n",
    "pt_tensor_train_target = torch.load('train_tensor_target.pt')\n",
    "np_tensor_train_target = pt_tensor_train_target.numpy()\n",
    "tf_tensor_train_target = tf.convert_to_tensor(np_tensor_train_target)\n",
    "tf_tensor_train.shape, tf_tensor_train_target.shape"
   ]
  },
  {
   "cell_type": "code",
   "execution_count": 6,
   "metadata": {
    "colab": {
     "base_uri": "https://localhost:8080/"
    },
    "id": "hd_tU9mmzc_H",
    "outputId": "ebb14965-2b00-403d-f548-8cc411facb74"
   },
   "outputs": [
    {
     "data": {
      "text/plain": [
       "(TensorShape([1044, 1795]), TensorShape([1044, 1]))"
      ]
     },
     "execution_count": 6,
     "metadata": {},
     "output_type": "execute_result"
    }
   ],
   "source": [
    "#read valdation, target tensor\n",
    "pt_tensor_val = torch.load('val_tensor.pt')\n",
    "np_tensor_val = pt_tensor_val.numpy()\n",
    "tf_tensor_val = tf.convert_to_tensor(np_tensor_val)\n",
    "pt_tensor_val_target = torch.load('val_tensor_target.pt')\n",
    "np_tensor_val_target = pt_tensor_val_target.numpy()\n",
    "tf_tensor_val_target = tf.convert_to_tensor(np_tensor_val_target)\n",
    "tf_tensor_val.shape, tf_tensor_val_target.shape"
   ]
  },
  {
   "cell_type": "code",
   "execution_count": 7,
   "metadata": {
    "colab": {
     "base_uri": "https://localhost:8080/"
    },
    "id": "DN8t0Z0vzwlT",
    "outputId": "a09ea311-d5fd-4769-bb26-22f04c4289e8"
   },
   "outputs": [
    {
     "data": {
      "text/plain": [
       "(TensorShape([1496, 1795]), TensorShape([1496, 1]))"
      ]
     },
     "execution_count": 7,
     "metadata": {},
     "output_type": "execute_result"
    }
   ],
   "source": [
    "#read testing, target tensor\n",
    "pt_tensor_test = torch.load('test_tensor.pt')\n",
    "np_tensor_test = pt_tensor_test.numpy()\n",
    "tf_tensor_test = tf.convert_to_tensor(np_tensor_test)\n",
    "pt_tensor_test_target = torch.load('test_tensor_target.pt')\n",
    "np_tensor_test_target = pt_tensor_test_target.numpy()\n",
    "tf_tensor_test_target = tf.convert_to_tensor(np_tensor_test_target)\n",
    "tf_tensor_test.shape, tf_tensor_test_target.shape"
   ]
  },
  {
   "cell_type": "code",
   "execution_count": 8,
   "metadata": {
    "colab": {
     "base_uri": "https://localhost:8080/"
    },
    "id": "pc6nY37dHfen",
    "outputId": "ec8e90b3-64fa-40e4-8df1-c297a3aea350",
    "scrolled": true
   },
   "outputs": [
    {
     "data": {
      "text/plain": [
       "((1496,), numpy.ndarray)"
      ]
     },
     "execution_count": 8,
     "metadata": {},
     "output_type": "execute_result"
    }
   ],
   "source": [
    "np_tensor_test_target.flatten().shape, type(np_tensor_test_target)"
   ]
  },
  {
   "cell_type": "code",
   "execution_count": 9,
   "metadata": {},
   "outputs": [],
   "source": [
    "import numpy as np"
   ]
  },
  {
   "cell_type": "code",
   "execution_count": 10,
   "metadata": {},
   "outputs": [
    {
     "data": {
      "text/plain": [
       "array([[ 0.00000000e+00,  1.11193920e+07,  7.04000000e+03, ...,\n",
       "         4.40000000e+01,  8.00000000e+00,  0.00000000e+00],\n",
       "       [-2.01904297e-01,  3.69628906e-01,  2.62695312e-01, ...,\n",
       "         4.30000000e+01,  1.00000000e+01,  1.00000000e+00],\n",
       "       [-3.15185547e-01,  7.01904297e-02, -2.35443115e-02, ...,\n",
       "         6.60000000e+01,  1.50000000e+01, -1.00000000e+00],\n",
       "       ...,\n",
       "       [-5.79101562e-01, -1.05041504e-01,  9.94873047e-02, ...,\n",
       "         9.20000000e+01,  1.50000000e+01, -1.00000000e+00],\n",
       "       [-5.62011719e-01, -4.56542969e-01, -1.09130859e-01, ...,\n",
       "         6.80000000e+01,  1.40000000e+01, -1.00000000e+00],\n",
       "       [-5.62988281e-01,  2.04589844e-01, -4.97436523e-02, ...,\n",
       "         5.80000000e+01,  1.20000000e+01,  0.00000000e+00]], dtype=float32)"
      ]
     },
     "execution_count": 10,
     "metadata": {},
     "output_type": "execute_result"
    }
   ],
   "source": [
    "np_tensor_train"
   ]
  },
  {
   "cell_type": "code",
   "execution_count": 11,
   "metadata": {},
   "outputs": [
    {
     "data": {
      "text/plain": [
       "array([[[ 0.00000000e+00,  1.11193920e+07,  7.04000000e+03, ...,\n",
       "          4.40000000e+01,  8.00000000e+00,  0.00000000e+00]],\n",
       "\n",
       "       [[-2.01904297e-01,  3.69628906e-01,  2.62695312e-01, ...,\n",
       "          4.30000000e+01,  1.00000000e+01,  1.00000000e+00]],\n",
       "\n",
       "       [[-3.15185547e-01,  7.01904297e-02, -2.35443115e-02, ...,\n",
       "          6.60000000e+01,  1.50000000e+01, -1.00000000e+00]],\n",
       "\n",
       "       ...,\n",
       "\n",
       "       [[-5.79101562e-01, -1.05041504e-01,  9.94873047e-02, ...,\n",
       "          9.20000000e+01,  1.50000000e+01, -1.00000000e+00]],\n",
       "\n",
       "       [[-5.62011719e-01, -4.56542969e-01, -1.09130859e-01, ...,\n",
       "          6.80000000e+01,  1.40000000e+01, -1.00000000e+00]],\n",
       "\n",
       "       [[-5.62988281e-01,  2.04589844e-01, -4.97436523e-02, ...,\n",
       "          5.80000000e+01,  1.20000000e+01,  0.00000000e+00]]],\n",
       "      dtype=float32)"
      ]
     },
     "execution_count": 11,
     "metadata": {},
     "output_type": "execute_result"
    }
   ],
   "source": [
    "np.reshape(np_tensor_train, (4500,1, 1795))"
   ]
  },
  {
   "cell_type": "code",
   "execution_count": 12,
   "metadata": {},
   "outputs": [
    {
     "data": {
      "text/plain": [
       "(numpy.ndarray, (4500, 1795))"
      ]
     },
     "execution_count": 12,
     "metadata": {},
     "output_type": "execute_result"
    }
   ],
   "source": [
    "type(np_tensor_train), np_tensor_train.shape"
   ]
  },
  {
   "cell_type": "code",
   "execution_count": 13,
   "metadata": {
    "id": "tfQ3svJ0IkUP"
   },
   "outputs": [],
   "source": [
    "train_target = np_tensor_train_target.flatten()\n",
    "train_data = np.reshape(np_tensor_train, (4500,1,1795)) # np_tensor_train"
   ]
  },
  {
   "cell_type": "code",
   "execution_count": 14,
   "metadata": {},
   "outputs": [],
   "source": [
    "test_target = np_tensor_val_target.flatten()\n",
    "test_data = np.reshape(np_tensor_val, (1044,1,1795)) # np_tensor_test"
   ]
  },
  {
   "cell_type": "code",
   "execution_count": 15,
   "metadata": {},
   "outputs": [
    {
     "data": {
      "text/plain": [
       "array([[[ 0.00000000e+00,  1.11193920e+07,  7.04000000e+03, ...,\n",
       "          4.40000000e+01,  8.00000000e+00,  0.00000000e+00]],\n",
       "\n",
       "       [[-2.01904297e-01,  3.69628906e-01,  2.62695312e-01, ...,\n",
       "          4.30000000e+01,  1.00000000e+01,  1.00000000e+00]],\n",
       "\n",
       "       [[-3.15185547e-01,  7.01904297e-02, -2.35443115e-02, ...,\n",
       "          6.60000000e+01,  1.50000000e+01, -1.00000000e+00]],\n",
       "\n",
       "       ...,\n",
       "\n",
       "       [[-5.79101562e-01, -1.05041504e-01,  9.94873047e-02, ...,\n",
       "          9.20000000e+01,  1.50000000e+01, -1.00000000e+00]],\n",
       "\n",
       "       [[-5.62011719e-01, -4.56542969e-01, -1.09130859e-01, ...,\n",
       "          6.80000000e+01,  1.40000000e+01, -1.00000000e+00]],\n",
       "\n",
       "       [[-5.62988281e-01,  2.04589844e-01, -4.97436523e-02, ...,\n",
       "          5.80000000e+01,  1.20000000e+01,  0.00000000e+00]]],\n",
       "      dtype=float32)"
      ]
     },
     "execution_count": 15,
     "metadata": {},
     "output_type": "execute_result"
    }
   ],
   "source": [
    "train_data"
   ]
  },
  {
   "cell_type": "code",
   "execution_count": 16,
   "metadata": {},
   "outputs": [
    {
     "data": {
      "text/plain": [
       "(4500,)"
      ]
     },
     "execution_count": 16,
     "metadata": {},
     "output_type": "execute_result"
    }
   ],
   "source": [
    "train_target.shape"
   ]
  },
  {
   "cell_type": "code",
   "execution_count": 17,
   "metadata": {},
   "outputs": [],
   "source": [
    "train_target[train_target==-1] = 2"
   ]
  },
  {
   "cell_type": "code",
   "execution_count": 18,
   "metadata": {},
   "outputs": [],
   "source": [
    "test_target[test_target==-1] = 2"
   ]
  },
  {
   "cell_type": "code",
   "execution_count": 19,
   "metadata": {
    "scrolled": true
   },
   "outputs": [
    {
     "data": {
      "text/plain": [
       "(4500,)"
      ]
     },
     "execution_count": 19,
     "metadata": {},
     "output_type": "execute_result"
    }
   ],
   "source": [
    "train_target.shape"
   ]
  },
  {
   "cell_type": "code",
   "execution_count": 20,
   "metadata": {},
   "outputs": [
    {
     "name": "stdout",
     "output_type": "stream",
     "text": [
      "Requirement already satisfied: tensorflow_addons in c:\\anaconda\\lib\\site-packages (0.17.1)\n",
      "Requirement already satisfied: packaging in c:\\anaconda\\lib\\site-packages (from tensorflow_addons) (21.0)\n",
      "Requirement already satisfied: typeguard>=2.7 in c:\\anaconda\\lib\\site-packages (from tensorflow_addons) (2.13.3)\n",
      "Requirement already satisfied: pyparsing>=2.0.2 in c:\\anaconda\\lib\\site-packages (from packaging->tensorflow_addons) (3.0.4)\n"
     ]
    },
    {
     "name": "stderr",
     "output_type": "stream",
     "text": [
      "WARNING: Ignoring invalid distribution -cikit-learn (c:\\anaconda\\lib\\site-packages)\n",
      "WARNING: Ignoring invalid distribution -andas (c:\\anaconda\\lib\\site-packages)\n",
      "WARNING: Ignoring invalid distribution -cikit-learn (c:\\anaconda\\lib\\site-packages)\n",
      "WARNING: Ignoring invalid distribution -andas (c:\\anaconda\\lib\\site-packages)\n",
      "WARNING: Ignoring invalid distribution -cikit-learn (c:\\anaconda\\lib\\site-packages)\n",
      "WARNING: Ignoring invalid distribution -andas (c:\\anaconda\\lib\\site-packages)\n",
      "WARNING: Ignoring invalid distribution -cikit-learn (c:\\anaconda\\lib\\site-packages)\n",
      "WARNING: Ignoring invalid distribution -andas (c:\\anaconda\\lib\\site-packages)\n",
      "WARNING: Ignoring invalid distribution -cikit-learn (c:\\anaconda\\lib\\site-packages)\n",
      "WARNING: Ignoring invalid distribution -andas (c:\\anaconda\\lib\\site-packages)\n",
      "WARNING: Ignoring invalid distribution -cikit-learn (c:\\anaconda\\lib\\site-packages)\n",
      "WARNING: Ignoring invalid distribution -andas (c:\\anaconda\\lib\\site-packages)\n"
     ]
    }
   ],
   "source": [
    "!pip install tensorflow_addons"
   ]
  },
  {
   "cell_type": "code",
   "execution_count": 21,
   "metadata": {},
   "outputs": [],
   "source": [
    "import numpy as np, pandas as pd\n",
    "import tensorflow_addons as tfa"
   ]
  },
  {
   "cell_type": "code",
   "execution_count": 43,
   "metadata": {
    "id": "89masdMr0Jlg"
   },
   "outputs": [],
   "source": [
    "tf.random.set_seed(42)\n",
    "model = tf.keras.Sequential([\n",
    "    tf.keras.layers.Flatten(input_shape=(1, 1795)),\n",
    "    #tf.keras.layers.Dense(512, activation='relu'),\n",
    "    #tf.keras.layers.Dropout(0.2),\n",
    "    tf.keras.layers.Dense(64, activation='relu'),\n",
    "    tf.keras.layers.Dropout(0.1),\n",
    "    tf.keras.layers.Dense(32, activation='relu'),\n",
    "    tf.keras.layers.Dense(3, activation='softmax')\n",
    "])\n",
    "\n",
    "model.compile(optimizer=tfa.optimizers.RectifiedAdam(0.0001),\n",
    "              loss=tf.keras.losses.SparseCategoricalCrossentropy(),\n",
    "              #tf.keras.metrics.Accuracy, , tfa.metrics.F1Score\n",
    "              metrics=['accuracy'])"
   ]
  },
  {
   "cell_type": "code",
   "execution_count": 44,
   "metadata": {},
   "outputs": [
    {
     "data": {
      "text/plain": [
       "array([1., 2., 0., ..., 0., 2., 1.], dtype=float32)"
      ]
     },
     "execution_count": 44,
     "metadata": {},
     "output_type": "execute_result"
    }
   ],
   "source": [
    "train_target"
   ]
  },
  {
   "cell_type": "code",
   "execution_count": 45,
   "metadata": {},
   "outputs": [
    {
     "data": {
      "text/plain": [
       "(4500, 3)"
      ]
     },
     "execution_count": 45,
     "metadata": {},
     "output_type": "execute_result"
    }
   ],
   "source": [
    "target = tf.keras.utils.to_categorical(\n",
    "    train_target, num_classes=3, dtype='float32'\n",
    ")\n",
    "target.shape"
   ]
  },
  {
   "cell_type": "code",
   "execution_count": 70,
   "metadata": {
    "id": "Ehrh9CXkIgEP"
   },
   "outputs": [
    {
     "name": "stdout",
     "output_type": "stream",
     "text": [
      "Epoch 1/50\n",
      "85/85 [==============================] - 0s 3ms/step - loss: 0.0444 - accuracy: 0.9874 - val_loss: 1.1866 - val_accuracy: 0.7683\n",
      "Epoch 2/50\n",
      "85/85 [==============================] - 0s 3ms/step - loss: 0.0478 - accuracy: 0.9874 - val_loss: 1.1799 - val_accuracy: 0.7617\n",
      "Epoch 3/50\n",
      "85/85 [==============================] - 0s 3ms/step - loss: 0.0507 - accuracy: 0.9870 - val_loss: 1.2454 - val_accuracy: 0.7689\n",
      "Epoch 4/50\n",
      "85/85 [==============================] - 0s 3ms/step - loss: 0.0452 - accuracy: 0.9889 - val_loss: 1.1942 - val_accuracy: 0.7678\n",
      "Epoch 5/50\n",
      "85/85 [==============================] - 0s 3ms/step - loss: 0.0573 - accuracy: 0.9837 - val_loss: 1.2021 - val_accuracy: 0.7661\n",
      "Epoch 6/50\n",
      "85/85 [==============================] - 0s 3ms/step - loss: 0.0399 - accuracy: 0.9896 - val_loss: 1.1978 - val_accuracy: 0.7644\n",
      "Epoch 7/50\n",
      "85/85 [==============================] - 0s 3ms/step - loss: 0.0475 - accuracy: 0.9885 - val_loss: 1.2493 - val_accuracy: 0.7672\n",
      "Epoch 8/50\n",
      "85/85 [==============================] - 0s 3ms/step - loss: 0.0412 - accuracy: 0.9900 - val_loss: 1.1437 - val_accuracy: 0.7672\n",
      "Epoch 9/50\n",
      "85/85 [==============================] - 0s 3ms/step - loss: 0.0438 - accuracy: 0.9889 - val_loss: 1.2036 - val_accuracy: 0.7678\n",
      "Epoch 10/50\n",
      "85/85 [==============================] - 0s 3ms/step - loss: 0.0442 - accuracy: 0.9881 - val_loss: 1.2892 - val_accuracy: 0.7644\n",
      "Epoch 11/50\n",
      "85/85 [==============================] - 0s 3ms/step - loss: 0.0510 - accuracy: 0.9878 - val_loss: 1.1992 - val_accuracy: 0.7656\n",
      "Epoch 12/50\n",
      "85/85 [==============================] - 0s 3ms/step - loss: 0.0420 - accuracy: 0.9881 - val_loss: 1.3034 - val_accuracy: 0.7722\n",
      "Epoch 13/50\n",
      "85/85 [==============================] - 0s 3ms/step - loss: 0.0465 - accuracy: 0.9859 - val_loss: 1.2449 - val_accuracy: 0.7650\n",
      "Epoch 14/50\n",
      "85/85 [==============================] - 0s 3ms/step - loss: 0.0461 - accuracy: 0.9852 - val_loss: 1.2565 - val_accuracy: 0.7639\n",
      "Epoch 15/50\n",
      "85/85 [==============================] - 0s 3ms/step - loss: 0.0504 - accuracy: 0.9874 - val_loss: 1.2304 - val_accuracy: 0.7689\n",
      "Epoch 16/50\n",
      "85/85 [==============================] - 0s 3ms/step - loss: 0.0477 - accuracy: 0.9889 - val_loss: 1.3096 - val_accuracy: 0.7644\n",
      "Epoch 17/50\n",
      "85/85 [==============================] - 0s 3ms/step - loss: 0.0445 - accuracy: 0.9870 - val_loss: 1.2266 - val_accuracy: 0.7639\n",
      "Epoch 18/50\n",
      "85/85 [==============================] - 0s 3ms/step - loss: 0.0432 - accuracy: 0.9889 - val_loss: 1.2338 - val_accuracy: 0.7606\n",
      "Epoch 19/50\n",
      "85/85 [==============================] - 0s 3ms/step - loss: 0.0380 - accuracy: 0.9896 - val_loss: 1.2755 - val_accuracy: 0.7639\n",
      "Epoch 20/50\n",
      "85/85 [==============================] - 0s 3ms/step - loss: 0.0460 - accuracy: 0.9885 - val_loss: 1.2552 - val_accuracy: 0.7683\n",
      "Epoch 21/50\n",
      "85/85 [==============================] - 0s 3ms/step - loss: 0.0468 - accuracy: 0.9867 - val_loss: 1.2599 - val_accuracy: 0.7639\n",
      "Epoch 22/50\n",
      "85/85 [==============================] - 0s 3ms/step - loss: 0.0373 - accuracy: 0.9904 - val_loss: 1.2473 - val_accuracy: 0.7650\n",
      "Epoch 23/50\n",
      "85/85 [==============================] - 0s 3ms/step - loss: 0.0431 - accuracy: 0.9881 - val_loss: 1.2719 - val_accuracy: 0.7639\n",
      "Epoch 24/50\n",
      "85/85 [==============================] - 0s 3ms/step - loss: 0.0351 - accuracy: 0.9922 - val_loss: 1.2758 - val_accuracy: 0.7650\n",
      "Epoch 25/50\n",
      "85/85 [==============================] - 0s 3ms/step - loss: 0.0410 - accuracy: 0.9874 - val_loss: 1.2595 - val_accuracy: 0.7661\n",
      "Epoch 26/50\n",
      "85/85 [==============================] - 0s 3ms/step - loss: 0.0470 - accuracy: 0.9870 - val_loss: 1.2946 - val_accuracy: 0.7617\n",
      "Epoch 27/50\n",
      "85/85 [==============================] - 0s 3ms/step - loss: 0.0438 - accuracy: 0.9885 - val_loss: 1.3271 - val_accuracy: 0.7594\n",
      "Epoch 28/50\n",
      "85/85 [==============================] - 0s 3ms/step - loss: 0.0362 - accuracy: 0.9907 - val_loss: 1.2801 - val_accuracy: 0.7589\n",
      "Epoch 29/50\n",
      "85/85 [==============================] - 0s 3ms/step - loss: 0.0393 - accuracy: 0.9907 - val_loss: 1.3396 - val_accuracy: 0.7628\n",
      "Epoch 30/50\n",
      "85/85 [==============================] - 0s 3ms/step - loss: 0.0399 - accuracy: 0.9907 - val_loss: 1.3049 - val_accuracy: 0.7594\n",
      "Epoch 31/50\n",
      "85/85 [==============================] - 0s 3ms/step - loss: 0.0395 - accuracy: 0.9911 - val_loss: 1.3463 - val_accuracy: 0.7550\n",
      "Epoch 32/50\n",
      "85/85 [==============================] - 0s 3ms/step - loss: 0.0445 - accuracy: 0.9889 - val_loss: 1.2943 - val_accuracy: 0.7622\n",
      "Epoch 33/50\n",
      "85/85 [==============================] - 0s 3ms/step - loss: 0.0371 - accuracy: 0.9904 - val_loss: 1.2717 - val_accuracy: 0.7628\n",
      "Epoch 34/50\n",
      "85/85 [==============================] - 0s 3ms/step - loss: 0.0446 - accuracy: 0.9878 - val_loss: 1.3004 - val_accuracy: 0.7611\n",
      "Epoch 35/50\n",
      "85/85 [==============================] - 0s 3ms/step - loss: 0.0358 - accuracy: 0.9900 - val_loss: 1.3637 - val_accuracy: 0.7594\n",
      "Epoch 36/50\n",
      "85/85 [==============================] - 0s 3ms/step - loss: 0.0417 - accuracy: 0.9870 - val_loss: 1.2319 - val_accuracy: 0.7539\n",
      "Epoch 37/50\n",
      "85/85 [==============================] - 0s 3ms/step - loss: 0.0336 - accuracy: 0.9911 - val_loss: 1.3144 - val_accuracy: 0.7594\n",
      "Epoch 38/50\n",
      "85/85 [==============================] - 0s 3ms/step - loss: 0.0351 - accuracy: 0.9915 - val_loss: 1.3415 - val_accuracy: 0.7539\n",
      "Epoch 39/50\n",
      "85/85 [==============================] - 0s 3ms/step - loss: 0.0304 - accuracy: 0.9930 - val_loss: 1.3180 - val_accuracy: 0.7606\n",
      "Epoch 40/50\n",
      "85/85 [==============================] - 0s 3ms/step - loss: 0.0421 - accuracy: 0.9889 - val_loss: 1.3555 - val_accuracy: 0.7561\n",
      "Epoch 41/50\n",
      "85/85 [==============================] - 0s 3ms/step - loss: 0.0386 - accuracy: 0.9889 - val_loss: 1.4178 - val_accuracy: 0.7506\n",
      "Epoch 42/50\n",
      "85/85 [==============================] - 0s 3ms/step - loss: 0.0340 - accuracy: 0.9919 - val_loss: 1.3647 - val_accuracy: 0.7606\n",
      "Epoch 43/50\n",
      "85/85 [==============================] - 0s 3ms/step - loss: 0.0383 - accuracy: 0.9900 - val_loss: 1.4745 - val_accuracy: 0.7478\n",
      "Epoch 44/50\n",
      "85/85 [==============================] - 0s 3ms/step - loss: 0.0361 - accuracy: 0.9930 - val_loss: 1.2994 - val_accuracy: 0.7589\n",
      "Epoch 45/50\n",
      "85/85 [==============================] - 0s 3ms/step - loss: 0.0457 - accuracy: 0.9889 - val_loss: 1.3687 - val_accuracy: 0.7589\n",
      "Epoch 46/50\n",
      "85/85 [==============================] - 0s 3ms/step - loss: 0.0353 - accuracy: 0.9907 - val_loss: 1.3600 - val_accuracy: 0.7528\n",
      "Epoch 47/50\n",
      "85/85 [==============================] - 0s 3ms/step - loss: 0.0393 - accuracy: 0.9904 - val_loss: 1.3576 - val_accuracy: 0.7539\n",
      "Epoch 48/50\n",
      "85/85 [==============================] - 0s 3ms/step - loss: 0.0360 - accuracy: 0.9926 - val_loss: 1.3313 - val_accuracy: 0.7578\n",
      "Epoch 49/50\n",
      "85/85 [==============================] - 0s 3ms/step - loss: 0.0457 - accuracy: 0.9833 - val_loss: 1.3855 - val_accuracy: 0.7483\n",
      "Epoch 50/50\n",
      "85/85 [==============================] - 0s 3ms/step - loss: 0.0348 - accuracy: 0.9922 - val_loss: 1.3605 - val_accuracy: 0.7567\n"
     ]
    }
   ],
   "source": [
    "history = model.fit(train_data, train_target, validation_split=0.40, epochs=50)"
   ]
  },
  {
   "cell_type": "code",
   "execution_count": 71,
   "metadata": {},
   "outputs": [
    {
     "name": "stdout",
     "output_type": "stream",
     "text": [
      "33/33 - 0s - loss: 3.1848 - accuracy: 0.5335 - 44ms/epoch - 1ms/step\n",
      "\n",
      "Confusion Matrix: 0.5335249304771423\n"
     ]
    }
   ],
   "source": [
    "test_loss, test_acc = model.evaluate(test_data,  test_target, verbose=2)\n",
    "\n",
    "print('\\nConfusion Matrix:', test_acc)"
   ]
  },
  {
   "cell_type": "code",
   "execution_count": 72,
   "metadata": {},
   "outputs": [],
   "source": [
    "probability_model = tf.keras.Sequential([model, \n",
    "                                         tf.keras.layers.Softmax()])"
   ]
  },
  {
   "cell_type": "code",
   "execution_count": 73,
   "metadata": {},
   "outputs": [
    {
     "data": {
      "text/plain": [
       "array([[0.21194157, 0.5761169 , 0.21194157],\n",
       "       [0.21215226, 0.21247682, 0.57537097],\n",
       "       [0.5709596 , 0.21601771, 0.21302268],\n",
       "       ...,\n",
       "       [0.21194553, 0.5760979 , 0.21195649],\n",
       "       [0.21260785, 0.575212  , 0.2121801 ],\n",
       "       [0.21591042, 0.5710887 , 0.21300091]], dtype=float32)"
      ]
     },
     "execution_count": 73,
     "metadata": {},
     "output_type": "execute_result"
    }
   ],
   "source": [
    "predictions_train = probability_model.predict(train_data)\n",
    "predictions_train"
   ]
  },
  {
   "cell_type": "code",
   "execution_count": 74,
   "metadata": {},
   "outputs": [
    {
     "data": {
      "text/plain": [
       "array([[0.29428715, 0.26685268, 0.43886018],\n",
       "       [0.2137314 , 0.5737546 , 0.21251404],\n",
       "       [0.23893109, 0.4439642 , 0.31710467],\n",
       "       ...,\n",
       "       [0.21543577, 0.57170194, 0.21286222],\n",
       "       [0.57460636, 0.21312913, 0.21226452],\n",
       "       [0.21194158, 0.5761168 , 0.21194163]], dtype=float32)"
      ]
     },
     "execution_count": 74,
     "metadata": {},
     "output_type": "execute_result"
    }
   ],
   "source": [
    "predictions_test = probability_model.predict(test_data)\n",
    "predictions_test"
   ]
  },
  {
   "cell_type": "code",
   "execution_count": 75,
   "metadata": {},
   "outputs": [
    {
     "data": {
      "text/plain": [
       "(4500, 1044)"
      ]
     },
     "execution_count": 75,
     "metadata": {},
     "output_type": "execute_result"
    }
   ],
   "source": [
    "len(predictions_train), len(predictions_test)"
   ]
  },
  {
   "cell_type": "code",
   "execution_count": 76,
   "metadata": {},
   "outputs": [
    {
     "data": {
      "text/plain": [
       "(1, 1.0)"
      ]
     },
     "execution_count": 76,
     "metadata": {},
     "output_type": "execute_result"
    }
   ],
   "source": [
    "np.argmax(predictions_train[5]), train_target[5]"
   ]
  },
  {
   "cell_type": "code",
   "execution_count": 77,
   "metadata": {},
   "outputs": [
    {
     "data": {
      "text/plain": [
       "(2, 1.0)"
      ]
     },
     "execution_count": 77,
     "metadata": {},
     "output_type": "execute_result"
    }
   ],
   "source": [
    "np.argmax(predictions_test[5]), test_target[5]"
   ]
  },
  {
   "cell_type": "code",
   "execution_count": 78,
   "metadata": {},
   "outputs": [
    {
     "data": {
      "text/html": [
       "<div>\n",
       "<style scoped>\n",
       "    .dataframe tbody tr th:only-of-type {\n",
       "        vertical-align: middle;\n",
       "    }\n",
       "\n",
       "    .dataframe tbody tr th {\n",
       "        vertical-align: top;\n",
       "    }\n",
       "\n",
       "    .dataframe thead th {\n",
       "        text-align: right;\n",
       "    }\n",
       "</style>\n",
       "<table border=\"1\" class=\"dataframe\">\n",
       "  <thead>\n",
       "    <tr style=\"text-align: right;\">\n",
       "      <th></th>\n",
       "      <th>y_true_train</th>\n",
       "      <th>y_pred_train</th>\n",
       "    </tr>\n",
       "  </thead>\n",
       "  <tbody>\n",
       "    <tr>\n",
       "      <th>0</th>\n",
       "      <td>1.0</td>\n",
       "      <td>1</td>\n",
       "    </tr>\n",
       "    <tr>\n",
       "      <th>1</th>\n",
       "      <td>2.0</td>\n",
       "      <td>2</td>\n",
       "    </tr>\n",
       "    <tr>\n",
       "      <th>2</th>\n",
       "      <td>0.0</td>\n",
       "      <td>0</td>\n",
       "    </tr>\n",
       "    <tr>\n",
       "      <th>3</th>\n",
       "      <td>1.0</td>\n",
       "      <td>1</td>\n",
       "    </tr>\n",
       "    <tr>\n",
       "      <th>4</th>\n",
       "      <td>1.0</td>\n",
       "      <td>1</td>\n",
       "    </tr>\n",
       "  </tbody>\n",
       "</table>\n",
       "</div>"
      ],
      "text/plain": [
       "   y_true_train  y_pred_train\n",
       "0           1.0             1\n",
       "1           2.0             2\n",
       "2           0.0             0\n",
       "3           1.0             1\n",
       "4           1.0             1"
      ]
     },
     "execution_count": 78,
     "metadata": {},
     "output_type": "execute_result"
    }
   ],
   "source": [
    "y_true_train, y_pred_train = [],[]\n",
    "for i in range(len(predictions_train)):\n",
    "    y_true_train.append(np.argmax(predictions_train[i]))\n",
    "    y_pred_train.append(train_target[i])\n",
    "\n",
    "train_result_df = pd.DataFrame(y_true_train, y_pred_train).reset_index()\n",
    "train_result_df.columns = ['y_true_train', 'y_pred_train']\n",
    "train_result_df.head()"
   ]
  },
  {
   "cell_type": "code",
   "execution_count": 79,
   "metadata": {},
   "outputs": [
    {
     "data": {
      "text/html": [
       "<div>\n",
       "<style scoped>\n",
       "    .dataframe tbody tr th:only-of-type {\n",
       "        vertical-align: middle;\n",
       "    }\n",
       "\n",
       "    .dataframe tbody tr th {\n",
       "        vertical-align: top;\n",
       "    }\n",
       "\n",
       "    .dataframe thead th {\n",
       "        text-align: right;\n",
       "    }\n",
       "</style>\n",
       "<table border=\"1\" class=\"dataframe\">\n",
       "  <thead>\n",
       "    <tr style=\"text-align: right;\">\n",
       "      <th></th>\n",
       "      <th>y_true_test</th>\n",
       "      <th>y_pred_tes</th>\n",
       "    </tr>\n",
       "  </thead>\n",
       "  <tbody>\n",
       "    <tr>\n",
       "      <th>0</th>\n",
       "      <td>1.0</td>\n",
       "      <td>2</td>\n",
       "    </tr>\n",
       "    <tr>\n",
       "      <th>1</th>\n",
       "      <td>0.0</td>\n",
       "      <td>1</td>\n",
       "    </tr>\n",
       "    <tr>\n",
       "      <th>2</th>\n",
       "      <td>1.0</td>\n",
       "      <td>1</td>\n",
       "    </tr>\n",
       "    <tr>\n",
       "      <th>3</th>\n",
       "      <td>1.0</td>\n",
       "      <td>1</td>\n",
       "    </tr>\n",
       "    <tr>\n",
       "      <th>4</th>\n",
       "      <td>1.0</td>\n",
       "      <td>2</td>\n",
       "    </tr>\n",
       "  </tbody>\n",
       "</table>\n",
       "</div>"
      ],
      "text/plain": [
       "   y_true_test  y_pred_tes\n",
       "0          1.0           2\n",
       "1          0.0           1\n",
       "2          1.0           1\n",
       "3          1.0           1\n",
       "4          1.0           2"
      ]
     },
     "execution_count": 79,
     "metadata": {},
     "output_type": "execute_result"
    }
   ],
   "source": [
    "y_true_test, y_pred_test = [],[]\n",
    "for i in range(len(predictions_test)):\n",
    "    y_true_test.append(np.argmax(predictions_test[i]))\n",
    "    y_pred_test.append(test_target[i])\n",
    "\n",
    "test_result_df = pd.DataFrame(y_true_test, y_pred_test).reset_index()\n",
    "test_result_df.columns = ['y_true_test', 'y_pred_tes']\n",
    "test_result_df.head()"
   ]
  },
  {
   "cell_type": "code",
   "execution_count": 80,
   "metadata": {},
   "outputs": [],
   "source": [
    "train_result_df.to_csv('train_result_2.csv', index=False)\n",
    "test_result_df.to_csv('test_result_2.csv', index=False)"
   ]
  },
  {
   "cell_type": "code",
   "execution_count": 81,
   "metadata": {},
   "outputs": [],
   "source": [
    "from sklearn.metrics import confusion_matrix"
   ]
  },
  {
   "cell_type": "code",
   "execution_count": 82,
   "metadata": {},
   "outputs": [
    {
     "data": {
      "text/plain": [
       "array([[1184,  103,   12],\n",
       "       [ 209, 2552,   83],\n",
       "       [  13,   21,  323]], dtype=int64)"
      ]
     },
     "execution_count": 82,
     "metadata": {},
     "output_type": "execute_result"
    }
   ],
   "source": [
    "confusion_matrix(y_true_train, y_pred_train)"
   ]
  },
  {
   "cell_type": "code",
   "execution_count": 83,
   "metadata": {},
   "outputs": [
    {
     "data": {
      "text/plain": [
       "array([[ 65, 132,  24],\n",
       "       [234, 487,  56],\n",
       "       [ 10,  31,   5]], dtype=int64)"
      ]
     },
     "execution_count": 83,
     "metadata": {},
     "output_type": "execute_result"
    }
   ],
   "source": [
    "confusion_matrix(y_true_test, y_pred_test)"
   ]
  },
  {
   "cell_type": "code",
   "execution_count": 84,
   "metadata": {},
   "outputs": [],
   "source": [
    "from sklearn.metrics import f1_score"
   ]
  },
  {
   "cell_type": "code",
   "execution_count": 85,
   "metadata": {},
   "outputs": [
    {
     "data": {
      "text/plain": [
       "0.902"
      ]
     },
     "execution_count": 85,
     "metadata": {},
     "output_type": "execute_result"
    }
   ],
   "source": [
    "f1_score(y_true_train, y_pred_train, zero_division=1, average='micro')"
   ]
  },
  {
   "cell_type": "code",
   "execution_count": 91,
   "metadata": {},
   "outputs": [
    {
     "data": {
      "text/plain": [
       "0.902"
      ]
     },
     "execution_count": 91,
     "metadata": {},
     "output_type": "execute_result"
    }
   ],
   "source": [
    "accuracy_score(y_true_train, y_pred_train)"
   ]
  },
  {
   "cell_type": "code",
   "execution_count": 92,
   "metadata": {},
   "outputs": [
    {
     "data": {
      "text/plain": [
       "0.902"
      ]
     },
     "execution_count": 92,
     "metadata": {},
     "output_type": "execute_result"
    }
   ],
   "source": [
    "recall_score(y_true_train, y_pred_train, zero_division=1, average='micro')"
   ]
  },
  {
   "cell_type": "code",
   "execution_count": 86,
   "metadata": {},
   "outputs": [
    {
     "data": {
      "text/plain": [
       "0.5335249042145593"
      ]
     },
     "execution_count": 86,
     "metadata": {},
     "output_type": "execute_result"
    }
   ],
   "source": [
    "f1_score(y_true_test, y_pred_test, zero_division=1, average='micro')"
   ]
  },
  {
   "cell_type": "code",
   "execution_count": 88,
   "metadata": {},
   "outputs": [],
   "source": [
    "from sklearn.metrics import accuracy_score, recall_score"
   ]
  },
  {
   "cell_type": "code",
   "execution_count": 89,
   "metadata": {},
   "outputs": [
    {
     "data": {
      "text/plain": [
       "0.5335249042145593"
      ]
     },
     "execution_count": 89,
     "metadata": {},
     "output_type": "execute_result"
    }
   ],
   "source": [
    "accuracy_score(y_true_test, y_pred_test)"
   ]
  },
  {
   "cell_type": "code",
   "execution_count": 90,
   "metadata": {},
   "outputs": [
    {
     "data": {
      "text/plain": [
       "0.5335249042145593"
      ]
     },
     "execution_count": 90,
     "metadata": {},
     "output_type": "execute_result"
    }
   ],
   "source": [
    "recall_score(y_true_test, y_pred_test, zero_division=1, average='micro')"
   ]
  },
  {
   "cell_type": "markdown",
   "metadata": {},
   "source": [
    "# ###############################################################\n",
    "# End of Model Training and Testing"
   ]
  }
 ],
 "metadata": {
  "colab": {
   "name": "Training_Meme_Sentiment_Classifier.ipynb",
   "provenance": []
  },
  "kernelspec": {
   "display_name": "Python 3 (ipykernel)",
   "language": "python",
   "name": "python3"
  },
  "language_info": {
   "codemirror_mode": {
    "name": "ipython",
    "version": 3
   },
   "file_extension": ".py",
   "mimetype": "text/x-python",
   "name": "python",
   "nbconvert_exporter": "python",
   "pygments_lexer": "ipython3",
   "version": "3.9.7"
  }
 },
 "nbformat": 4,
 "nbformat_minor": 1
}
